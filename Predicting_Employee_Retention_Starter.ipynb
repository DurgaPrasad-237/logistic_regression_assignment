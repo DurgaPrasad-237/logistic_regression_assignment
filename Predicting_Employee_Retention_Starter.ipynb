{
  "cells": [
    {
      "cell_type": "markdown",
      "metadata": {
        "id": "h93yUiuRbzEv"
      },
      "source": [
        "# **Predicting Employee Retention**"
      ]
    },
    {
      "cell_type": "markdown",
      "metadata": {
        "id": "V7YvL652bzE0"
      },
      "source": [
        "### Objective\n",
        "\n",
        "The objective of this assignment is to develop a Logistic Regression model. You will be using this model to analyse and predict binary outcomes based on the input data. This assignment aims to enhance understanding of logistic regression, including its assumptions, implementation, and evaluation, to effectively classify and interpret data.\n"
      ]
    },
    {
      "cell_type": "markdown",
      "metadata": {
        "id": "waZ4IVr4bzE1"
      },
      "source": [
        "### Business Objective\n",
        "\n",
        "A mid-sized technology company wants to improve its understanding of employee retention to foster a loyal and committed workforce. While the organization has traditionally focused on addressing turnover, it recognises the value of proactively identifying employees likely to stay and understanding the factors contributing to their loyalty.\n",
        "\n",
        "\n",
        "In this assignment you’ll be building a logistic regression model to predict the likelihood of employee retention based on the data such as demographic details, job satisfaction scores, performance metrics, and tenure. The aim is to provide the HR department with actionable insights to strengthen retention strategies, create a supportive work environment, and increase the overall stability and satisfaction of the workforce."
      ]
    },
    {
      "cell_type": "markdown",
      "metadata": {
        "id": "Z7zFcptgbzE2"
      },
      "source": [
        "## Assignment Tasks\n",
        "\n",
        "You need to perform the following steps to complete this assignment:\n",
        "1. Data Understanding\n",
        "2. Data Cleaning\n",
        "3. Train Validation Split\n",
        "4. EDA on training data\n",
        "5. EDA on validation data [Optional]\n",
        "6. Feature Engineering\n",
        "7. Model Building\n",
        "8. Prediction and Model Evaluation\n",
        "\n",
        "\n"
      ]
    },
    {
      "cell_type": "markdown",
      "metadata": {
        "id": "ejDKL2NDceHc"
      },
      "source": [
        "## Data Dictionary\n",
        "\n",
        "The data has 24 Columns and 74610 Rows. Following data dictionary provides the description for each column present in dataset:<br>\n",
        "\n",
        "<table>\n",
        "  <thead>\n",
        "    <tr>\n",
        "      <th>Column Name</th>\n",
        "      <th>Description</th>\n",
        "    </tr>\n",
        "  </thead>\n",
        "  <tbody>\n",
        "    <tr>\n",
        "      <td>Employee ID</td>\n",
        "      <td>A unique identifier assigned to each employee.</td>\n",
        "    </tr>\n",
        "    <tr>\n",
        "      <td>Age</td>\n",
        "      <td>The age of the employee, ranging from 18 to 60 years.</td>\n",
        "    </tr>\n",
        "    <tr>\n",
        "      <td>Gender</td>\n",
        "      <td>The gender of the employee.</td>\n",
        "    </tr>\n",
        "    <tr>\n",
        "      <td>Years at Company</td>\n",
        "      <td>The number of years the employee has been working at the company.</td>\n",
        "    </tr>\n",
        "    <tr>\n",
        "      <td>Monthly Income</td>\n",
        "      <td>The monthly salary of the employee, in dollars.</td>\n",
        "    </tr>\n",
        "    <tr>\n",
        "      <td>Job Role</td>\n",
        "      <td>The department or role the employee works in, encoded into categories such as Finance, Healthcare, Technology, Education, and Media.</td>\n",
        "    </tr>\n",
        "    <tr>\n",
        "      <td>Work-Life Balance</td>\n",
        "      <td>The employee's perceived balance between work and personal life (Poor, Below Average, Good, Excellent).</td>\n",
        "    </tr>\n",
        "    <tr>\n",
        "      <td>Job Satisfaction</td>\n",
        "      <td>The employee's satisfaction with their job (Very Low, Low, Medium, High).</td>\n",
        "    </tr>\n",
        "    <tr>\n",
        "      <td>Performance Rating</td>\n",
        "      <td>The employee's performance rating (Low, Below Average, Average, High).</td>\n",
        "    </tr>\n",
        "    <tr>\n",
        "      <td>Number of Promotions</td>\n",
        "      <td>The total number of promotions the employee has received.</td>\n",
        "    </tr>\n",
        "     </tr>\n",
        "     <tr>\n",
        "      <td>Overtime</td>\n",
        "      <td>Number of overtime hours.</td>\n",
        "    </tr>\n",
        "    <tr>\n",
        "      <td>Distance from Home</td>\n",
        "      <td>The distance between the employee's home and workplace, in miles.</td>\n",
        "    </tr>\n",
        "    <tr>\n",
        "      <td>Education Level</td>\n",
        "      <td>The highest education level attained by the employee (High School, Associate Degree, Bachelor’s Degree, Master’s Degree, PhD).</td>\n",
        "    </tr>\n",
        "    <tr>\n",
        "      <td>Marital Status</td>\n",
        "      <td>The marital status of the employee (Divorced, Married, Single).</td>\n",
        "    </tr>\n",
        "     <tr>\n",
        "      <td>Number of Dependents</td>\n",
        "      <td>Number of dependents the employee has.</td>\n",
        "    </tr>\n",
        "    <tr>\n",
        "      <td>Job Level</td>\n",
        "      <td>The job level of the employee (Entry, Mid, Senior).</td>\n",
        "    </tr>\n",
        "    <tr>\n",
        "      <td>Company Size</td>\n",
        "      <td>The size of the company the employee works for (Small, Medium, Large).</td>\n",
        "    </tr>\n",
        "    <tr>\n",
        "      <td>Company Tenure (In Months)</td>\n",
        "      <td>The total number of years the employee has been working in the industry.</td>\n",
        "    </tr>\n",
        "    <tr>\n",
        "      <td>Remote Work</td>\n",
        "      <td>Whether the employee works remotely (Yes or No).</td>\n",
        "    </tr>\n",
        "    <tr>\n",
        "      <td>Leadership Opportunities</td>\n",
        "      <td>Whether the employee has leadership opportunities (Yes or No).</td>\n",
        "    </tr>\n",
        "    <tr>\n",
        "      <td>Innovation Opportunities</td>\n",
        "      <td>Whether the employee has opportunities for innovation (Yes or No).</td>\n",
        "    </tr>\n",
        "    <tr>\n",
        "      <td>Company Reputation</td>\n",
        "      <td>The employee's perception of the company's reputation (Very Poor, Poor, Good, Excellent).</td>\n",
        "    </tr>\n",
        "    <tr>\n",
        "      <td>Employee Recognition</td>\n",
        "      <td>The level of recognition the employee receives(Very Low, Low, Medium, High).</td>\n",
        "    </tr>\n",
        "    <tr>\n",
        "      <td>Attrition</td>\n",
        "      <td>Whether the employee has left the company.</td>\n",
        "    </tr>\n",
        "  </tbody>\n",
        "</table>\n"
      ]
    },
    {
      "cell_type": "markdown",
      "metadata": {
        "id": "6lmfQyH2bzE5"
      },
      "source": [
        "## **1. Data Understanding**\n",
        "\n",
        "In this step, load the dataset and check basic statistics of the data, including preview of data, dimension of data, column descriptions and data types."
      ]
    },
    {
      "cell_type": "markdown",
      "metadata": {
        "id": "PqhCqH69bzE2"
      },
      "source": [
        "### **1.0 Import Libraries**"
      ]
    },
    {
      "cell_type": "code",
      "execution_count": 2,
      "metadata": {
        "id": "1bADKAJibzE3"
      },
      "outputs": [],
      "source": [
        "# Supress unnecessary warnings\n",
        "import warnings\n",
        "warnings.filterwarnings('ignore')"
      ]
    },
    {
      "cell_type": "code",
      "execution_count": 3,
      "metadata": {
        "id": "vOoaowGFbzE5"
      },
      "outputs": [],
      "source": [
        "# Import the libraries\n",
        "import numpy as np\n",
        "import pandas as pd"
      ]
    },
    {
      "cell_type": "markdown",
      "metadata": {
        "id": "IzOBYKpCcJZJ"
      },
      "source": [
        "### **1.1 Load the Data**"
      ]
    },
    {
      "cell_type": "code",
      "execution_count": 5,
      "metadata": {
        "id": "Vibm0dYcbzE6"
      },
      "outputs": [],
      "source": [
        "# Load the dataset\n",
        "df = pd.read_csv(\"/Employee_data.csv\");"
      ]
    },
    {
      "cell_type": "code",
      "execution_count": 6,
      "metadata": {
        "id": "bVeUFyDxbzE6",
        "colab": {
          "base_uri": "https://localhost:8080/",
          "height": 481
        },
        "outputId": "079d8a6d-d372-4380-df89-ce36041eccd2"
      },
      "outputs": [
        {
          "output_type": "execute_result",
          "data": {
            "text/plain": [
              "   Employee ID  Age  Gender  Years at Company    Job Role  Monthly Income  \\\n",
              "0         8410   31    Male                19   Education            5390   \n",
              "1        64756   59  Female                 4       Media            5534   \n",
              "2        30257   24  Female                10  Healthcare            8159   \n",
              "3        65791   36  Female                 7   Education            3989   \n",
              "4        65026   56    Male                41   Education            4821   \n",
              "5        24368   38  Female                 3  Technology            9977   \n",
              "6        64970   47    Male                23   Education            3681   \n",
              "7        36999   48    Male                16     Finance           11223   \n",
              "8        32714   57    Male                44   Education            3773   \n",
              "9        15944   24  Female                 1  Healthcare            7319   \n",
              "\n",
              "  Work-Life Balance Job Satisfaction Performance Rating  Number of Promotions  \\\n",
              "0         Excellent           Medium            Average                     2   \n",
              "1              Poor             High                Low                     3   \n",
              "2              Good             High                Low                     0   \n",
              "3              Good             High               High                     1   \n",
              "4              Fair        Very High            Average                     0   \n",
              "5              Fair             High      Below Average                     3   \n",
              "6              Fair             High               High                     1   \n",
              "7         Excellent        Very High               High                     2   \n",
              "8              Good           Medium               High                     1   \n",
              "9              Poor             High            Average                     1   \n",
              "\n",
              "   ... Number of Dependents  Job Level Company Size  \\\n",
              "0  ...                    0        Mid       Medium   \n",
              "1  ...                    3        Mid       Medium   \n",
              "2  ...                    3        Mid       Medium   \n",
              "3  ...                    2        Mid        Small   \n",
              "4  ...                    0     Senior       Medium   \n",
              "5  ...                    0        Mid       Medium   \n",
              "6  ...                    3      Entry        Small   \n",
              "7  ...                    4      Entry       Medium   \n",
              "8  ...                    4      Entry       Medium   \n",
              "9  ...                    4      Entry        Large   \n",
              "\n",
              "  Company Tenure (In Months)  Remote Work Leadership Opportunities  \\\n",
              "0                       89.0           No                       No   \n",
              "1                       21.0           No                       No   \n",
              "2                       74.0           No                       No   \n",
              "3                       50.0          Yes                       No   \n",
              "4                       68.0           No                       No   \n",
              "5                       47.0           No                       No   \n",
              "6                       93.0           No                       No   \n",
              "7                       88.0           No                       No   \n",
              "8                       75.0           No                       No   \n",
              "9                        NaN           No                       No   \n",
              "\n",
              "  Innovation Opportunities  Company Reputation Employee Recognition Attrition  \n",
              "0                       No           Excellent               Medium    Stayed  \n",
              "1                       No                Fair                  Low    Stayed  \n",
              "2                       No                Poor                  Low    Stayed  \n",
              "3                       No                Good               Medium    Stayed  \n",
              "4                       No                Fair               Medium    Stayed  \n",
              "5                      Yes                Fair                 High      Left  \n",
              "6                       No                Good               Medium      Left  \n",
              "7                       No           Excellent                  Low    Stayed  \n",
              "8                       No                Fair               Medium    Stayed  \n",
              "9                      Yes                Good                  Low      Left  \n",
              "\n",
              "[10 rows x 24 columns]"
            ],
            "text/html": [
              "\n",
              "  <div id=\"df-fdb48914-3d5c-420f-8ae8-c42d4d943aa4\" class=\"colab-df-container\">\n",
              "    <div>\n",
              "<style scoped>\n",
              "    .dataframe tbody tr th:only-of-type {\n",
              "        vertical-align: middle;\n",
              "    }\n",
              "\n",
              "    .dataframe tbody tr th {\n",
              "        vertical-align: top;\n",
              "    }\n",
              "\n",
              "    .dataframe thead th {\n",
              "        text-align: right;\n",
              "    }\n",
              "</style>\n",
              "<table border=\"1\" class=\"dataframe\">\n",
              "  <thead>\n",
              "    <tr style=\"text-align: right;\">\n",
              "      <th></th>\n",
              "      <th>Employee ID</th>\n",
              "      <th>Age</th>\n",
              "      <th>Gender</th>\n",
              "      <th>Years at Company</th>\n",
              "      <th>Job Role</th>\n",
              "      <th>Monthly Income</th>\n",
              "      <th>Work-Life Balance</th>\n",
              "      <th>Job Satisfaction</th>\n",
              "      <th>Performance Rating</th>\n",
              "      <th>Number of Promotions</th>\n",
              "      <th>...</th>\n",
              "      <th>Number of Dependents</th>\n",
              "      <th>Job Level</th>\n",
              "      <th>Company Size</th>\n",
              "      <th>Company Tenure (In Months)</th>\n",
              "      <th>Remote Work</th>\n",
              "      <th>Leadership Opportunities</th>\n",
              "      <th>Innovation Opportunities</th>\n",
              "      <th>Company Reputation</th>\n",
              "      <th>Employee Recognition</th>\n",
              "      <th>Attrition</th>\n",
              "    </tr>\n",
              "  </thead>\n",
              "  <tbody>\n",
              "    <tr>\n",
              "      <th>0</th>\n",
              "      <td>8410</td>\n",
              "      <td>31</td>\n",
              "      <td>Male</td>\n",
              "      <td>19</td>\n",
              "      <td>Education</td>\n",
              "      <td>5390</td>\n",
              "      <td>Excellent</td>\n",
              "      <td>Medium</td>\n",
              "      <td>Average</td>\n",
              "      <td>2</td>\n",
              "      <td>...</td>\n",
              "      <td>0</td>\n",
              "      <td>Mid</td>\n",
              "      <td>Medium</td>\n",
              "      <td>89.0</td>\n",
              "      <td>No</td>\n",
              "      <td>No</td>\n",
              "      <td>No</td>\n",
              "      <td>Excellent</td>\n",
              "      <td>Medium</td>\n",
              "      <td>Stayed</td>\n",
              "    </tr>\n",
              "    <tr>\n",
              "      <th>1</th>\n",
              "      <td>64756</td>\n",
              "      <td>59</td>\n",
              "      <td>Female</td>\n",
              "      <td>4</td>\n",
              "      <td>Media</td>\n",
              "      <td>5534</td>\n",
              "      <td>Poor</td>\n",
              "      <td>High</td>\n",
              "      <td>Low</td>\n",
              "      <td>3</td>\n",
              "      <td>...</td>\n",
              "      <td>3</td>\n",
              "      <td>Mid</td>\n",
              "      <td>Medium</td>\n",
              "      <td>21.0</td>\n",
              "      <td>No</td>\n",
              "      <td>No</td>\n",
              "      <td>No</td>\n",
              "      <td>Fair</td>\n",
              "      <td>Low</td>\n",
              "      <td>Stayed</td>\n",
              "    </tr>\n",
              "    <tr>\n",
              "      <th>2</th>\n",
              "      <td>30257</td>\n",
              "      <td>24</td>\n",
              "      <td>Female</td>\n",
              "      <td>10</td>\n",
              "      <td>Healthcare</td>\n",
              "      <td>8159</td>\n",
              "      <td>Good</td>\n",
              "      <td>High</td>\n",
              "      <td>Low</td>\n",
              "      <td>0</td>\n",
              "      <td>...</td>\n",
              "      <td>3</td>\n",
              "      <td>Mid</td>\n",
              "      <td>Medium</td>\n",
              "      <td>74.0</td>\n",
              "      <td>No</td>\n",
              "      <td>No</td>\n",
              "      <td>No</td>\n",
              "      <td>Poor</td>\n",
              "      <td>Low</td>\n",
              "      <td>Stayed</td>\n",
              "    </tr>\n",
              "    <tr>\n",
              "      <th>3</th>\n",
              "      <td>65791</td>\n",
              "      <td>36</td>\n",
              "      <td>Female</td>\n",
              "      <td>7</td>\n",
              "      <td>Education</td>\n",
              "      <td>3989</td>\n",
              "      <td>Good</td>\n",
              "      <td>High</td>\n",
              "      <td>High</td>\n",
              "      <td>1</td>\n",
              "      <td>...</td>\n",
              "      <td>2</td>\n",
              "      <td>Mid</td>\n",
              "      <td>Small</td>\n",
              "      <td>50.0</td>\n",
              "      <td>Yes</td>\n",
              "      <td>No</td>\n",
              "      <td>No</td>\n",
              "      <td>Good</td>\n",
              "      <td>Medium</td>\n",
              "      <td>Stayed</td>\n",
              "    </tr>\n",
              "    <tr>\n",
              "      <th>4</th>\n",
              "      <td>65026</td>\n",
              "      <td>56</td>\n",
              "      <td>Male</td>\n",
              "      <td>41</td>\n",
              "      <td>Education</td>\n",
              "      <td>4821</td>\n",
              "      <td>Fair</td>\n",
              "      <td>Very High</td>\n",
              "      <td>Average</td>\n",
              "      <td>0</td>\n",
              "      <td>...</td>\n",
              "      <td>0</td>\n",
              "      <td>Senior</td>\n",
              "      <td>Medium</td>\n",
              "      <td>68.0</td>\n",
              "      <td>No</td>\n",
              "      <td>No</td>\n",
              "      <td>No</td>\n",
              "      <td>Fair</td>\n",
              "      <td>Medium</td>\n",
              "      <td>Stayed</td>\n",
              "    </tr>\n",
              "    <tr>\n",
              "      <th>5</th>\n",
              "      <td>24368</td>\n",
              "      <td>38</td>\n",
              "      <td>Female</td>\n",
              "      <td>3</td>\n",
              "      <td>Technology</td>\n",
              "      <td>9977</td>\n",
              "      <td>Fair</td>\n",
              "      <td>High</td>\n",
              "      <td>Below Average</td>\n",
              "      <td>3</td>\n",
              "      <td>...</td>\n",
              "      <td>0</td>\n",
              "      <td>Mid</td>\n",
              "      <td>Medium</td>\n",
              "      <td>47.0</td>\n",
              "      <td>No</td>\n",
              "      <td>No</td>\n",
              "      <td>Yes</td>\n",
              "      <td>Fair</td>\n",
              "      <td>High</td>\n",
              "      <td>Left</td>\n",
              "    </tr>\n",
              "    <tr>\n",
              "      <th>6</th>\n",
              "      <td>64970</td>\n",
              "      <td>47</td>\n",
              "      <td>Male</td>\n",
              "      <td>23</td>\n",
              "      <td>Education</td>\n",
              "      <td>3681</td>\n",
              "      <td>Fair</td>\n",
              "      <td>High</td>\n",
              "      <td>High</td>\n",
              "      <td>1</td>\n",
              "      <td>...</td>\n",
              "      <td>3</td>\n",
              "      <td>Entry</td>\n",
              "      <td>Small</td>\n",
              "      <td>93.0</td>\n",
              "      <td>No</td>\n",
              "      <td>No</td>\n",
              "      <td>No</td>\n",
              "      <td>Good</td>\n",
              "      <td>Medium</td>\n",
              "      <td>Left</td>\n",
              "    </tr>\n",
              "    <tr>\n",
              "      <th>7</th>\n",
              "      <td>36999</td>\n",
              "      <td>48</td>\n",
              "      <td>Male</td>\n",
              "      <td>16</td>\n",
              "      <td>Finance</td>\n",
              "      <td>11223</td>\n",
              "      <td>Excellent</td>\n",
              "      <td>Very High</td>\n",
              "      <td>High</td>\n",
              "      <td>2</td>\n",
              "      <td>...</td>\n",
              "      <td>4</td>\n",
              "      <td>Entry</td>\n",
              "      <td>Medium</td>\n",
              "      <td>88.0</td>\n",
              "      <td>No</td>\n",
              "      <td>No</td>\n",
              "      <td>No</td>\n",
              "      <td>Excellent</td>\n",
              "      <td>Low</td>\n",
              "      <td>Stayed</td>\n",
              "    </tr>\n",
              "    <tr>\n",
              "      <th>8</th>\n",
              "      <td>32714</td>\n",
              "      <td>57</td>\n",
              "      <td>Male</td>\n",
              "      <td>44</td>\n",
              "      <td>Education</td>\n",
              "      <td>3773</td>\n",
              "      <td>Good</td>\n",
              "      <td>Medium</td>\n",
              "      <td>High</td>\n",
              "      <td>1</td>\n",
              "      <td>...</td>\n",
              "      <td>4</td>\n",
              "      <td>Entry</td>\n",
              "      <td>Medium</td>\n",
              "      <td>75.0</td>\n",
              "      <td>No</td>\n",
              "      <td>No</td>\n",
              "      <td>No</td>\n",
              "      <td>Fair</td>\n",
              "      <td>Medium</td>\n",
              "      <td>Stayed</td>\n",
              "    </tr>\n",
              "    <tr>\n",
              "      <th>9</th>\n",
              "      <td>15944</td>\n",
              "      <td>24</td>\n",
              "      <td>Female</td>\n",
              "      <td>1</td>\n",
              "      <td>Healthcare</td>\n",
              "      <td>7319</td>\n",
              "      <td>Poor</td>\n",
              "      <td>High</td>\n",
              "      <td>Average</td>\n",
              "      <td>1</td>\n",
              "      <td>...</td>\n",
              "      <td>4</td>\n",
              "      <td>Entry</td>\n",
              "      <td>Large</td>\n",
              "      <td>NaN</td>\n",
              "      <td>No</td>\n",
              "      <td>No</td>\n",
              "      <td>Yes</td>\n",
              "      <td>Good</td>\n",
              "      <td>Low</td>\n",
              "      <td>Left</td>\n",
              "    </tr>\n",
              "  </tbody>\n",
              "</table>\n",
              "<p>10 rows × 24 columns</p>\n",
              "</div>\n",
              "    <div class=\"colab-df-buttons\">\n",
              "\n",
              "  <div class=\"colab-df-container\">\n",
              "    <button class=\"colab-df-convert\" onclick=\"convertToInteractive('df-fdb48914-3d5c-420f-8ae8-c42d4d943aa4')\"\n",
              "            title=\"Convert this dataframe to an interactive table.\"\n",
              "            style=\"display:none;\">\n",
              "\n",
              "  <svg xmlns=\"http://www.w3.org/2000/svg\" height=\"24px\" viewBox=\"0 -960 960 960\">\n",
              "    <path d=\"M120-120v-720h720v720H120Zm60-500h600v-160H180v160Zm220 220h160v-160H400v160Zm0 220h160v-160H400v160ZM180-400h160v-160H180v160Zm440 0h160v-160H620v160ZM180-180h160v-160H180v160Zm440 0h160v-160H620v160Z\"/>\n",
              "  </svg>\n",
              "    </button>\n",
              "\n",
              "  <style>\n",
              "    .colab-df-container {\n",
              "      display:flex;\n",
              "      gap: 12px;\n",
              "    }\n",
              "\n",
              "    .colab-df-convert {\n",
              "      background-color: #E8F0FE;\n",
              "      border: none;\n",
              "      border-radius: 50%;\n",
              "      cursor: pointer;\n",
              "      display: none;\n",
              "      fill: #1967D2;\n",
              "      height: 32px;\n",
              "      padding: 0 0 0 0;\n",
              "      width: 32px;\n",
              "    }\n",
              "\n",
              "    .colab-df-convert:hover {\n",
              "      background-color: #E2EBFA;\n",
              "      box-shadow: 0px 1px 2px rgba(60, 64, 67, 0.3), 0px 1px 3px 1px rgba(60, 64, 67, 0.15);\n",
              "      fill: #174EA6;\n",
              "    }\n",
              "\n",
              "    .colab-df-buttons div {\n",
              "      margin-bottom: 4px;\n",
              "    }\n",
              "\n",
              "    [theme=dark] .colab-df-convert {\n",
              "      background-color: #3B4455;\n",
              "      fill: #D2E3FC;\n",
              "    }\n",
              "\n",
              "    [theme=dark] .colab-df-convert:hover {\n",
              "      background-color: #434B5C;\n",
              "      box-shadow: 0px 1px 3px 1px rgba(0, 0, 0, 0.15);\n",
              "      filter: drop-shadow(0px 1px 2px rgba(0, 0, 0, 0.3));\n",
              "      fill: #FFFFFF;\n",
              "    }\n",
              "  </style>\n",
              "\n",
              "    <script>\n",
              "      const buttonEl =\n",
              "        document.querySelector('#df-fdb48914-3d5c-420f-8ae8-c42d4d943aa4 button.colab-df-convert');\n",
              "      buttonEl.style.display =\n",
              "        google.colab.kernel.accessAllowed ? 'block' : 'none';\n",
              "\n",
              "      async function convertToInteractive(key) {\n",
              "        const element = document.querySelector('#df-fdb48914-3d5c-420f-8ae8-c42d4d943aa4');\n",
              "        const dataTable =\n",
              "          await google.colab.kernel.invokeFunction('convertToInteractive',\n",
              "                                                    [key], {});\n",
              "        if (!dataTable) return;\n",
              "\n",
              "        const docLinkHtml = 'Like what you see? Visit the ' +\n",
              "          '<a target=\"_blank\" href=https://colab.research.google.com/notebooks/data_table.ipynb>data table notebook</a>'\n",
              "          + ' to learn more about interactive tables.';\n",
              "        element.innerHTML = '';\n",
              "        dataTable['output_type'] = 'display_data';\n",
              "        await google.colab.output.renderOutput(dataTable, element);\n",
              "        const docLink = document.createElement('div');\n",
              "        docLink.innerHTML = docLinkHtml;\n",
              "        element.appendChild(docLink);\n",
              "      }\n",
              "    </script>\n",
              "  </div>\n",
              "\n",
              "\n",
              "    <div id=\"df-adb71384-4f77-4a13-b895-e74784220a3d\">\n",
              "      <button class=\"colab-df-quickchart\" onclick=\"quickchart('df-adb71384-4f77-4a13-b895-e74784220a3d')\"\n",
              "                title=\"Suggest charts\"\n",
              "                style=\"display:none;\">\n",
              "\n",
              "<svg xmlns=\"http://www.w3.org/2000/svg\" height=\"24px\"viewBox=\"0 0 24 24\"\n",
              "     width=\"24px\">\n",
              "    <g>\n",
              "        <path d=\"M19 3H5c-1.1 0-2 .9-2 2v14c0 1.1.9 2 2 2h14c1.1 0 2-.9 2-2V5c0-1.1-.9-2-2-2zM9 17H7v-7h2v7zm4 0h-2V7h2v10zm4 0h-2v-4h2v4z\"/>\n",
              "    </g>\n",
              "</svg>\n",
              "      </button>\n",
              "\n",
              "<style>\n",
              "  .colab-df-quickchart {\n",
              "      --bg-color: #E8F0FE;\n",
              "      --fill-color: #1967D2;\n",
              "      --hover-bg-color: #E2EBFA;\n",
              "      --hover-fill-color: #174EA6;\n",
              "      --disabled-fill-color: #AAA;\n",
              "      --disabled-bg-color: #DDD;\n",
              "  }\n",
              "\n",
              "  [theme=dark] .colab-df-quickchart {\n",
              "      --bg-color: #3B4455;\n",
              "      --fill-color: #D2E3FC;\n",
              "      --hover-bg-color: #434B5C;\n",
              "      --hover-fill-color: #FFFFFF;\n",
              "      --disabled-bg-color: #3B4455;\n",
              "      --disabled-fill-color: #666;\n",
              "  }\n",
              "\n",
              "  .colab-df-quickchart {\n",
              "    background-color: var(--bg-color);\n",
              "    border: none;\n",
              "    border-radius: 50%;\n",
              "    cursor: pointer;\n",
              "    display: none;\n",
              "    fill: var(--fill-color);\n",
              "    height: 32px;\n",
              "    padding: 0;\n",
              "    width: 32px;\n",
              "  }\n",
              "\n",
              "  .colab-df-quickchart:hover {\n",
              "    background-color: var(--hover-bg-color);\n",
              "    box-shadow: 0 1px 2px rgba(60, 64, 67, 0.3), 0 1px 3px 1px rgba(60, 64, 67, 0.15);\n",
              "    fill: var(--button-hover-fill-color);\n",
              "  }\n",
              "\n",
              "  .colab-df-quickchart-complete:disabled,\n",
              "  .colab-df-quickchart-complete:disabled:hover {\n",
              "    background-color: var(--disabled-bg-color);\n",
              "    fill: var(--disabled-fill-color);\n",
              "    box-shadow: none;\n",
              "  }\n",
              "\n",
              "  .colab-df-spinner {\n",
              "    border: 2px solid var(--fill-color);\n",
              "    border-color: transparent;\n",
              "    border-bottom-color: var(--fill-color);\n",
              "    animation:\n",
              "      spin 1s steps(1) infinite;\n",
              "  }\n",
              "\n",
              "  @keyframes spin {\n",
              "    0% {\n",
              "      border-color: transparent;\n",
              "      border-bottom-color: var(--fill-color);\n",
              "      border-left-color: var(--fill-color);\n",
              "    }\n",
              "    20% {\n",
              "      border-color: transparent;\n",
              "      border-left-color: var(--fill-color);\n",
              "      border-top-color: var(--fill-color);\n",
              "    }\n",
              "    30% {\n",
              "      border-color: transparent;\n",
              "      border-left-color: var(--fill-color);\n",
              "      border-top-color: var(--fill-color);\n",
              "      border-right-color: var(--fill-color);\n",
              "    }\n",
              "    40% {\n",
              "      border-color: transparent;\n",
              "      border-right-color: var(--fill-color);\n",
              "      border-top-color: var(--fill-color);\n",
              "    }\n",
              "    60% {\n",
              "      border-color: transparent;\n",
              "      border-right-color: var(--fill-color);\n",
              "    }\n",
              "    80% {\n",
              "      border-color: transparent;\n",
              "      border-right-color: var(--fill-color);\n",
              "      border-bottom-color: var(--fill-color);\n",
              "    }\n",
              "    90% {\n",
              "      border-color: transparent;\n",
              "      border-bottom-color: var(--fill-color);\n",
              "    }\n",
              "  }\n",
              "</style>\n",
              "\n",
              "      <script>\n",
              "        async function quickchart(key) {\n",
              "          const quickchartButtonEl =\n",
              "            document.querySelector('#' + key + ' button');\n",
              "          quickchartButtonEl.disabled = true;  // To prevent multiple clicks.\n",
              "          quickchartButtonEl.classList.add('colab-df-spinner');\n",
              "          try {\n",
              "            const charts = await google.colab.kernel.invokeFunction(\n",
              "                'suggestCharts', [key], {});\n",
              "          } catch (error) {\n",
              "            console.error('Error during call to suggestCharts:', error);\n",
              "          }\n",
              "          quickchartButtonEl.classList.remove('colab-df-spinner');\n",
              "          quickchartButtonEl.classList.add('colab-df-quickchart-complete');\n",
              "        }\n",
              "        (() => {\n",
              "          let quickchartButtonEl =\n",
              "            document.querySelector('#df-adb71384-4f77-4a13-b895-e74784220a3d button');\n",
              "          quickchartButtonEl.style.display =\n",
              "            google.colab.kernel.accessAllowed ? 'block' : 'none';\n",
              "        })();\n",
              "      </script>\n",
              "    </div>\n",
              "\n",
              "    </div>\n",
              "  </div>\n"
            ],
            "application/vnd.google.colaboratory.intrinsic+json": {
              "type": "dataframe",
              "variable_name": "df"
            }
          },
          "metadata": {},
          "execution_count": 6
        }
      ],
      "source": [
        "# Check the first few entries\n",
        "df.head(10)"
      ]
    },
    {
      "cell_type": "code",
      "execution_count": 8,
      "metadata": {
        "id": "msGYpADRbzE7",
        "colab": {
          "base_uri": "https://localhost:8080/"
        },
        "outputId": "bb9fed93-95e7-4685-eeed-4657fe567b3f"
      },
      "outputs": [
        {
          "output_type": "execute_result",
          "data": {
            "text/plain": [
              "(74610, 24)"
            ]
          },
          "metadata": {},
          "execution_count": 8
        }
      ],
      "source": [
        "# Inspect the shape of the dataset\n",
        "df.shape"
      ]
    },
    {
      "cell_type": "code",
      "execution_count": 11,
      "metadata": {
        "collapsed": true,
        "id": "kL53eXK6bzE7",
        "jupyter": {
          "outputs_hidden": true
        },
        "colab": {
          "base_uri": "https://localhost:8080/"
        },
        "outputId": "a122fce9-700d-4452-83db-a0731ebda913"
      },
      "outputs": [
        {
          "output_type": "execute_result",
          "data": {
            "text/plain": [
              "Index(['Employee ID', 'Age', 'Gender', 'Years at Company', 'Job Role',\n",
              "       'Monthly Income', 'Work-Life Balance', 'Job Satisfaction',\n",
              "       'Performance Rating', 'Number of Promotions', 'Overtime',\n",
              "       'Distance from Home', 'Education Level', 'Marital Status',\n",
              "       'Number of Dependents', 'Job Level', 'Company Size',\n",
              "       'Company Tenure (In Months)', 'Remote Work', 'Leadership Opportunities',\n",
              "       'Innovation Opportunities', 'Company Reputation',\n",
              "       'Employee Recognition', 'Attrition'],\n",
              "      dtype='object')"
            ]
          },
          "metadata": {},
          "execution_count": 11
        }
      ],
      "source": [
        "# Inspect the different columns in the dataset\n",
        "df.columns"
      ]
    },
    {
      "cell_type": "markdown",
      "metadata": {
        "id": "LrFKEWp8cmxB"
      },
      "source": [
        "### **1.2 Check the basic statistics**"
      ]
    },
    {
      "cell_type": "code",
      "execution_count": 10,
      "metadata": {
        "id": "nCykdG90bzE8",
        "colab": {
          "base_uri": "https://localhost:8080/",
          "height": 317
        },
        "outputId": "16107b97-256c-4b35-a927-eed1595a2b30"
      },
      "outputs": [
        {
          "output_type": "execute_result",
          "data": {
            "text/plain": [
              "        Employee ID           Age  Years at Company  Monthly Income  \\\n",
              "count  74610.000000  74610.000000      74610.000000    74610.000000   \n",
              "mean   37246.028696     38.529379         15.722638     7344.931417   \n",
              "std    21505.785344     12.082299         11.224059     2596.373589   \n",
              "min        1.000000     18.000000          1.000000     1226.000000   \n",
              "25%    18624.250000     28.000000          7.000000     5652.000000   \n",
              "50%    37239.500000     39.000000         13.000000     7348.500000   \n",
              "75%    55871.750000     49.000000         23.000000     8876.000000   \n",
              "max    74498.000000     59.000000         51.000000    50030.000000   \n",
              "\n",
              "       Number of Promotions  Distance from Home  Number of Dependents  \\\n",
              "count          74610.000000        72698.000000          74610.000000   \n",
              "mean               0.832958           49.990839              1.657432   \n",
              "std                0.995326           28.519135              1.579862   \n",
              "min                0.000000            1.000000              0.000000   \n",
              "25%                0.000000           25.000000              0.000000   \n",
              "50%                1.000000           50.000000              1.000000   \n",
              "75%                2.000000           75.000000              3.000000   \n",
              "max                4.000000           99.000000             15.000000   \n",
              "\n",
              "       Company Tenure (In Months)  \n",
              "count                72197.000000  \n",
              "mean                    55.711899  \n",
              "std                     25.392325  \n",
              "min                      2.000000  \n",
              "25%                     36.000000  \n",
              "50%                     56.000000  \n",
              "75%                     76.000000  \n",
              "max                    128.000000  "
            ],
            "text/html": [
              "\n",
              "  <div id=\"df-f5e3d89c-5210-4fd9-b780-7351294adc28\" class=\"colab-df-container\">\n",
              "    <div>\n",
              "<style scoped>\n",
              "    .dataframe tbody tr th:only-of-type {\n",
              "        vertical-align: middle;\n",
              "    }\n",
              "\n",
              "    .dataframe tbody tr th {\n",
              "        vertical-align: top;\n",
              "    }\n",
              "\n",
              "    .dataframe thead th {\n",
              "        text-align: right;\n",
              "    }\n",
              "</style>\n",
              "<table border=\"1\" class=\"dataframe\">\n",
              "  <thead>\n",
              "    <tr style=\"text-align: right;\">\n",
              "      <th></th>\n",
              "      <th>Employee ID</th>\n",
              "      <th>Age</th>\n",
              "      <th>Years at Company</th>\n",
              "      <th>Monthly Income</th>\n",
              "      <th>Number of Promotions</th>\n",
              "      <th>Distance from Home</th>\n",
              "      <th>Number of Dependents</th>\n",
              "      <th>Company Tenure (In Months)</th>\n",
              "    </tr>\n",
              "  </thead>\n",
              "  <tbody>\n",
              "    <tr>\n",
              "      <th>count</th>\n",
              "      <td>74610.000000</td>\n",
              "      <td>74610.000000</td>\n",
              "      <td>74610.000000</td>\n",
              "      <td>74610.000000</td>\n",
              "      <td>74610.000000</td>\n",
              "      <td>72698.000000</td>\n",
              "      <td>74610.000000</td>\n",
              "      <td>72197.000000</td>\n",
              "    </tr>\n",
              "    <tr>\n",
              "      <th>mean</th>\n",
              "      <td>37246.028696</td>\n",
              "      <td>38.529379</td>\n",
              "      <td>15.722638</td>\n",
              "      <td>7344.931417</td>\n",
              "      <td>0.832958</td>\n",
              "      <td>49.990839</td>\n",
              "      <td>1.657432</td>\n",
              "      <td>55.711899</td>\n",
              "    </tr>\n",
              "    <tr>\n",
              "      <th>std</th>\n",
              "      <td>21505.785344</td>\n",
              "      <td>12.082299</td>\n",
              "      <td>11.224059</td>\n",
              "      <td>2596.373589</td>\n",
              "      <td>0.995326</td>\n",
              "      <td>28.519135</td>\n",
              "      <td>1.579862</td>\n",
              "      <td>25.392325</td>\n",
              "    </tr>\n",
              "    <tr>\n",
              "      <th>min</th>\n",
              "      <td>1.000000</td>\n",
              "      <td>18.000000</td>\n",
              "      <td>1.000000</td>\n",
              "      <td>1226.000000</td>\n",
              "      <td>0.000000</td>\n",
              "      <td>1.000000</td>\n",
              "      <td>0.000000</td>\n",
              "      <td>2.000000</td>\n",
              "    </tr>\n",
              "    <tr>\n",
              "      <th>25%</th>\n",
              "      <td>18624.250000</td>\n",
              "      <td>28.000000</td>\n",
              "      <td>7.000000</td>\n",
              "      <td>5652.000000</td>\n",
              "      <td>0.000000</td>\n",
              "      <td>25.000000</td>\n",
              "      <td>0.000000</td>\n",
              "      <td>36.000000</td>\n",
              "    </tr>\n",
              "    <tr>\n",
              "      <th>50%</th>\n",
              "      <td>37239.500000</td>\n",
              "      <td>39.000000</td>\n",
              "      <td>13.000000</td>\n",
              "      <td>7348.500000</td>\n",
              "      <td>1.000000</td>\n",
              "      <td>50.000000</td>\n",
              "      <td>1.000000</td>\n",
              "      <td>56.000000</td>\n",
              "    </tr>\n",
              "    <tr>\n",
              "      <th>75%</th>\n",
              "      <td>55871.750000</td>\n",
              "      <td>49.000000</td>\n",
              "      <td>23.000000</td>\n",
              "      <td>8876.000000</td>\n",
              "      <td>2.000000</td>\n",
              "      <td>75.000000</td>\n",
              "      <td>3.000000</td>\n",
              "      <td>76.000000</td>\n",
              "    </tr>\n",
              "    <tr>\n",
              "      <th>max</th>\n",
              "      <td>74498.000000</td>\n",
              "      <td>59.000000</td>\n",
              "      <td>51.000000</td>\n",
              "      <td>50030.000000</td>\n",
              "      <td>4.000000</td>\n",
              "      <td>99.000000</td>\n",
              "      <td>15.000000</td>\n",
              "      <td>128.000000</td>\n",
              "    </tr>\n",
              "  </tbody>\n",
              "</table>\n",
              "</div>\n",
              "    <div class=\"colab-df-buttons\">\n",
              "\n",
              "  <div class=\"colab-df-container\">\n",
              "    <button class=\"colab-df-convert\" onclick=\"convertToInteractive('df-f5e3d89c-5210-4fd9-b780-7351294adc28')\"\n",
              "            title=\"Convert this dataframe to an interactive table.\"\n",
              "            style=\"display:none;\">\n",
              "\n",
              "  <svg xmlns=\"http://www.w3.org/2000/svg\" height=\"24px\" viewBox=\"0 -960 960 960\">\n",
              "    <path d=\"M120-120v-720h720v720H120Zm60-500h600v-160H180v160Zm220 220h160v-160H400v160Zm0 220h160v-160H400v160ZM180-400h160v-160H180v160Zm440 0h160v-160H620v160ZM180-180h160v-160H180v160Zm440 0h160v-160H620v160Z\"/>\n",
              "  </svg>\n",
              "    </button>\n",
              "\n",
              "  <style>\n",
              "    .colab-df-container {\n",
              "      display:flex;\n",
              "      gap: 12px;\n",
              "    }\n",
              "\n",
              "    .colab-df-convert {\n",
              "      background-color: #E8F0FE;\n",
              "      border: none;\n",
              "      border-radius: 50%;\n",
              "      cursor: pointer;\n",
              "      display: none;\n",
              "      fill: #1967D2;\n",
              "      height: 32px;\n",
              "      padding: 0 0 0 0;\n",
              "      width: 32px;\n",
              "    }\n",
              "\n",
              "    .colab-df-convert:hover {\n",
              "      background-color: #E2EBFA;\n",
              "      box-shadow: 0px 1px 2px rgba(60, 64, 67, 0.3), 0px 1px 3px 1px rgba(60, 64, 67, 0.15);\n",
              "      fill: #174EA6;\n",
              "    }\n",
              "\n",
              "    .colab-df-buttons div {\n",
              "      margin-bottom: 4px;\n",
              "    }\n",
              "\n",
              "    [theme=dark] .colab-df-convert {\n",
              "      background-color: #3B4455;\n",
              "      fill: #D2E3FC;\n",
              "    }\n",
              "\n",
              "    [theme=dark] .colab-df-convert:hover {\n",
              "      background-color: #434B5C;\n",
              "      box-shadow: 0px 1px 3px 1px rgba(0, 0, 0, 0.15);\n",
              "      filter: drop-shadow(0px 1px 2px rgba(0, 0, 0, 0.3));\n",
              "      fill: #FFFFFF;\n",
              "    }\n",
              "  </style>\n",
              "\n",
              "    <script>\n",
              "      const buttonEl =\n",
              "        document.querySelector('#df-f5e3d89c-5210-4fd9-b780-7351294adc28 button.colab-df-convert');\n",
              "      buttonEl.style.display =\n",
              "        google.colab.kernel.accessAllowed ? 'block' : 'none';\n",
              "\n",
              "      async function convertToInteractive(key) {\n",
              "        const element = document.querySelector('#df-f5e3d89c-5210-4fd9-b780-7351294adc28');\n",
              "        const dataTable =\n",
              "          await google.colab.kernel.invokeFunction('convertToInteractive',\n",
              "                                                    [key], {});\n",
              "        if (!dataTable) return;\n",
              "\n",
              "        const docLinkHtml = 'Like what you see? Visit the ' +\n",
              "          '<a target=\"_blank\" href=https://colab.research.google.com/notebooks/data_table.ipynb>data table notebook</a>'\n",
              "          + ' to learn more about interactive tables.';\n",
              "        element.innerHTML = '';\n",
              "        dataTable['output_type'] = 'display_data';\n",
              "        await google.colab.output.renderOutput(dataTable, element);\n",
              "        const docLink = document.createElement('div');\n",
              "        docLink.innerHTML = docLinkHtml;\n",
              "        element.appendChild(docLink);\n",
              "      }\n",
              "    </script>\n",
              "  </div>\n",
              "\n",
              "\n",
              "    <div id=\"df-572729d9-1f9f-46ca-95a9-34a98287c754\">\n",
              "      <button class=\"colab-df-quickchart\" onclick=\"quickchart('df-572729d9-1f9f-46ca-95a9-34a98287c754')\"\n",
              "                title=\"Suggest charts\"\n",
              "                style=\"display:none;\">\n",
              "\n",
              "<svg xmlns=\"http://www.w3.org/2000/svg\" height=\"24px\"viewBox=\"0 0 24 24\"\n",
              "     width=\"24px\">\n",
              "    <g>\n",
              "        <path d=\"M19 3H5c-1.1 0-2 .9-2 2v14c0 1.1.9 2 2 2h14c1.1 0 2-.9 2-2V5c0-1.1-.9-2-2-2zM9 17H7v-7h2v7zm4 0h-2V7h2v10zm4 0h-2v-4h2v4z\"/>\n",
              "    </g>\n",
              "</svg>\n",
              "      </button>\n",
              "\n",
              "<style>\n",
              "  .colab-df-quickchart {\n",
              "      --bg-color: #E8F0FE;\n",
              "      --fill-color: #1967D2;\n",
              "      --hover-bg-color: #E2EBFA;\n",
              "      --hover-fill-color: #174EA6;\n",
              "      --disabled-fill-color: #AAA;\n",
              "      --disabled-bg-color: #DDD;\n",
              "  }\n",
              "\n",
              "  [theme=dark] .colab-df-quickchart {\n",
              "      --bg-color: #3B4455;\n",
              "      --fill-color: #D2E3FC;\n",
              "      --hover-bg-color: #434B5C;\n",
              "      --hover-fill-color: #FFFFFF;\n",
              "      --disabled-bg-color: #3B4455;\n",
              "      --disabled-fill-color: #666;\n",
              "  }\n",
              "\n",
              "  .colab-df-quickchart {\n",
              "    background-color: var(--bg-color);\n",
              "    border: none;\n",
              "    border-radius: 50%;\n",
              "    cursor: pointer;\n",
              "    display: none;\n",
              "    fill: var(--fill-color);\n",
              "    height: 32px;\n",
              "    padding: 0;\n",
              "    width: 32px;\n",
              "  }\n",
              "\n",
              "  .colab-df-quickchart:hover {\n",
              "    background-color: var(--hover-bg-color);\n",
              "    box-shadow: 0 1px 2px rgba(60, 64, 67, 0.3), 0 1px 3px 1px rgba(60, 64, 67, 0.15);\n",
              "    fill: var(--button-hover-fill-color);\n",
              "  }\n",
              "\n",
              "  .colab-df-quickchart-complete:disabled,\n",
              "  .colab-df-quickchart-complete:disabled:hover {\n",
              "    background-color: var(--disabled-bg-color);\n",
              "    fill: var(--disabled-fill-color);\n",
              "    box-shadow: none;\n",
              "  }\n",
              "\n",
              "  .colab-df-spinner {\n",
              "    border: 2px solid var(--fill-color);\n",
              "    border-color: transparent;\n",
              "    border-bottom-color: var(--fill-color);\n",
              "    animation:\n",
              "      spin 1s steps(1) infinite;\n",
              "  }\n",
              "\n",
              "  @keyframes spin {\n",
              "    0% {\n",
              "      border-color: transparent;\n",
              "      border-bottom-color: var(--fill-color);\n",
              "      border-left-color: var(--fill-color);\n",
              "    }\n",
              "    20% {\n",
              "      border-color: transparent;\n",
              "      border-left-color: var(--fill-color);\n",
              "      border-top-color: var(--fill-color);\n",
              "    }\n",
              "    30% {\n",
              "      border-color: transparent;\n",
              "      border-left-color: var(--fill-color);\n",
              "      border-top-color: var(--fill-color);\n",
              "      border-right-color: var(--fill-color);\n",
              "    }\n",
              "    40% {\n",
              "      border-color: transparent;\n",
              "      border-right-color: var(--fill-color);\n",
              "      border-top-color: var(--fill-color);\n",
              "    }\n",
              "    60% {\n",
              "      border-color: transparent;\n",
              "      border-right-color: var(--fill-color);\n",
              "    }\n",
              "    80% {\n",
              "      border-color: transparent;\n",
              "      border-right-color: var(--fill-color);\n",
              "      border-bottom-color: var(--fill-color);\n",
              "    }\n",
              "    90% {\n",
              "      border-color: transparent;\n",
              "      border-bottom-color: var(--fill-color);\n",
              "    }\n",
              "  }\n",
              "</style>\n",
              "\n",
              "      <script>\n",
              "        async function quickchart(key) {\n",
              "          const quickchartButtonEl =\n",
              "            document.querySelector('#' + key + ' button');\n",
              "          quickchartButtonEl.disabled = true;  // To prevent multiple clicks.\n",
              "          quickchartButtonEl.classList.add('colab-df-spinner');\n",
              "          try {\n",
              "            const charts = await google.colab.kernel.invokeFunction(\n",
              "                'suggestCharts', [key], {});\n",
              "          } catch (error) {\n",
              "            console.error('Error during call to suggestCharts:', error);\n",
              "          }\n",
              "          quickchartButtonEl.classList.remove('colab-df-spinner');\n",
              "          quickchartButtonEl.classList.add('colab-df-quickchart-complete');\n",
              "        }\n",
              "        (() => {\n",
              "          let quickchartButtonEl =\n",
              "            document.querySelector('#df-572729d9-1f9f-46ca-95a9-34a98287c754 button');\n",
              "          quickchartButtonEl.style.display =\n",
              "            google.colab.kernel.accessAllowed ? 'block' : 'none';\n",
              "        })();\n",
              "      </script>\n",
              "    </div>\n",
              "\n",
              "    </div>\n",
              "  </div>\n"
            ],
            "application/vnd.google.colaboratory.intrinsic+json": {
              "type": "dataframe",
              "summary": "{\n  \"name\": \"df\",\n  \"rows\": 8,\n  \"fields\": [\n    {\n      \"column\": \"Employee ID\",\n      \"properties\": {\n        \"dtype\": \"number\",\n        \"std\": 26869.89702981809,\n        \"min\": 1.0,\n        \"max\": 74610.0,\n        \"num_unique_values\": 8,\n        \"samples\": [\n          37246.02869588527,\n          37239.5,\n          74610.0\n        ],\n        \"semantic_type\": \"\",\n        \"description\": \"\"\n      }\n    },\n    {\n      \"column\": \"Age\",\n      \"properties\": {\n        \"dtype\": \"number\",\n        \"std\": 26366.318730593728,\n        \"min\": 12.082299475884366,\n        \"max\": 74610.0,\n        \"num_unique_values\": 8,\n        \"samples\": [\n          38.529379439753384,\n          39.0,\n          74610.0\n        ],\n        \"semantic_type\": \"\",\n        \"description\": \"\"\n      }\n    },\n    {\n      \"column\": \"Years at Company\",\n      \"properties\": {\n        \"dtype\": \"number\",\n        \"std\": 26372.46356131141,\n        \"min\": 1.0,\n        \"max\": 74610.0,\n        \"num_unique_values\": 8,\n        \"samples\": [\n          15.722637716123844,\n          13.0,\n          74610.0\n        ],\n        \"semantic_type\": \"\",\n        \"description\": \"\"\n      }\n    },\n    {\n      \"column\": \"Monthly Income\",\n      \"properties\": {\n        \"dtype\": \"number\",\n        \"std\": 27225.38570226444,\n        \"min\": 1226.0,\n        \"max\": 74610.0,\n        \"num_unique_values\": 8,\n        \"samples\": [\n          7344.931416700174,\n          7348.5,\n          74610.0\n        ],\n        \"semantic_type\": \"\",\n        \"description\": \"\"\n      }\n    },\n    {\n      \"column\": \"Number of Promotions\",\n      \"properties\": {\n        \"dtype\": \"number\",\n        \"std\": 26378.172607771143,\n        \"min\": 0.0,\n        \"max\": 74610.0,\n        \"num_unique_values\": 7,\n        \"samples\": [\n          74610.0,\n          0.8329580485189653,\n          2.0\n        ],\n        \"semantic_type\": \"\",\n        \"description\": \"\"\n      }\n    },\n    {\n      \"column\": \"Distance from Home\",\n      \"properties\": {\n        \"dtype\": \"number\",\n        \"std\": 25686.0500593282,\n        \"min\": 1.0,\n        \"max\": 72698.0,\n        \"num_unique_values\": 8,\n        \"samples\": [\n          49.99083881262208,\n          50.0,\n          72698.0\n        ],\n        \"semantic_type\": \"\",\n        \"description\": \"\"\n      }\n    },\n    {\n      \"column\": \"Number of Dependents\",\n      \"properties\": {\n        \"dtype\": \"number\",\n        \"std\": 26377.495778491717,\n        \"min\": 0.0,\n        \"max\": 74610.0,\n        \"num_unique_values\": 7,\n        \"samples\": [\n          74610.0,\n          1.6574319796273957,\n          3.0\n        ],\n        \"semantic_type\": \"\",\n        \"description\": \"\"\n      }\n    },\n    {\n      \"column\": \"Company Tenure (In Months)\",\n      \"properties\": {\n        \"dtype\": \"number\",\n        \"std\": 25506.373966787593,\n        \"min\": 2.0,\n        \"max\": 72197.0,\n        \"num_unique_values\": 8,\n        \"samples\": [\n          55.7118993864011,\n          56.0,\n          72197.0\n        ],\n        \"semantic_type\": \"\",\n        \"description\": \"\"\n      }\n    }\n  ]\n}"
            }
          },
          "metadata": {},
          "execution_count": 10
        }
      ],
      "source": [
        "# Check the summary of the dataset\n",
        "df.describe()"
      ]
    },
    {
      "cell_type": "markdown",
      "metadata": {
        "id": "vlLfK93PdFkt"
      },
      "source": [
        "### **1.3 Check the data type of columns**"
      ]
    },
    {
      "cell_type": "code",
      "execution_count": 12,
      "metadata": {
        "id": "0TplEft3bzE8",
        "colab": {
          "base_uri": "https://localhost:8080/"
        },
        "outputId": "83814340-015e-4136-e22c-31978f60b9f9"
      },
      "outputs": [
        {
          "output_type": "stream",
          "name": "stdout",
          "text": [
            "<class 'pandas.core.frame.DataFrame'>\n",
            "RangeIndex: 74610 entries, 0 to 74609\n",
            "Data columns (total 24 columns):\n",
            " #   Column                      Non-Null Count  Dtype  \n",
            "---  ------                      --------------  -----  \n",
            " 0   Employee ID                 74610 non-null  int64  \n",
            " 1   Age                         74610 non-null  int64  \n",
            " 2   Gender                      74610 non-null  object \n",
            " 3   Years at Company            74610 non-null  int64  \n",
            " 4   Job Role                    74610 non-null  object \n",
            " 5   Monthly Income              74610 non-null  int64  \n",
            " 6   Work-Life Balance           74610 non-null  object \n",
            " 7   Job Satisfaction            74610 non-null  object \n",
            " 8   Performance Rating          74610 non-null  object \n",
            " 9   Number of Promotions        74610 non-null  int64  \n",
            " 10  Overtime                    74610 non-null  object \n",
            " 11  Distance from Home          72698 non-null  float64\n",
            " 12  Education Level             74610 non-null  object \n",
            " 13  Marital Status              74610 non-null  object \n",
            " 14  Number of Dependents        74610 non-null  int64  \n",
            " 15  Job Level                   74610 non-null  object \n",
            " 16  Company Size                74610 non-null  object \n",
            " 17  Company Tenure (In Months)  72197 non-null  float64\n",
            " 18  Remote Work                 74610 non-null  object \n",
            " 19  Leadership Opportunities    74610 non-null  object \n",
            " 20  Innovation Opportunities    74610 non-null  object \n",
            " 21  Company Reputation          74610 non-null  object \n",
            " 22  Employee Recognition        74610 non-null  object \n",
            " 23  Attrition                   74610 non-null  object \n",
            "dtypes: float64(2), int64(6), object(16)\n",
            "memory usage: 13.7+ MB\n"
          ]
        }
      ],
      "source": [
        "# Check the info to see the types of the feature variables and the null values present\n",
        "df.info()"
      ]
    },
    {
      "cell_type": "markdown",
      "metadata": {
        "id": "tNXum35MbzE9"
      },
      "source": [
        "## **2. Data Cleaning** <font color = red>[15 marks]</font>"
      ]
    },
    {
      "cell_type": "markdown",
      "metadata": {
        "id": "tC_ik7dobzE9"
      },
      "source": [
        "### **2.1 Handle the missing values** <font color = red>[10 marks]</font>"
      ]
    },
    {
      "cell_type": "markdown",
      "metadata": {
        "id": "8gPB7iZwdqxM"
      },
      "source": [
        "2.1.1 Check the number of missing values <font color=\"red\">[2 Mark]</font>"
      ]
    },
    {
      "cell_type": "code",
      "execution_count": 15,
      "metadata": {
        "id": "zOQGBvHSbzE9",
        "colab": {
          "base_uri": "https://localhost:8080/",
          "height": 836
        },
        "outputId": "6f844754-cfbb-49df-c8df-54d9bd3cc8b9"
      },
      "outputs": [
        {
          "output_type": "execute_result",
          "data": {
            "text/plain": [
              "Company Tenure (In Months)    2413\n",
              "Distance from Home            1912\n",
              "Employee ID                      0\n",
              "Age                              0\n",
              "Job Role                         0\n",
              "Monthly Income                   0\n",
              "Gender                           0\n",
              "Years at Company                 0\n",
              "Job Satisfaction                 0\n",
              "Work-Life Balance                0\n",
              "Number of Promotions             0\n",
              "Performance Rating               0\n",
              "Education Level                  0\n",
              "Marital Status                   0\n",
              "Number of Dependents             0\n",
              "Overtime                         0\n",
              "Job Level                        0\n",
              "Company Size                     0\n",
              "Remote Work                      0\n",
              "Leadership Opportunities         0\n",
              "Innovation Opportunities         0\n",
              "Company Reputation               0\n",
              "Employee Recognition             0\n",
              "Attrition                        0\n",
              "dtype: int64"
            ],
            "text/html": [
              "<div>\n",
              "<style scoped>\n",
              "    .dataframe tbody tr th:only-of-type {\n",
              "        vertical-align: middle;\n",
              "    }\n",
              "\n",
              "    .dataframe tbody tr th {\n",
              "        vertical-align: top;\n",
              "    }\n",
              "\n",
              "    .dataframe thead th {\n",
              "        text-align: right;\n",
              "    }\n",
              "</style>\n",
              "<table border=\"1\" class=\"dataframe\">\n",
              "  <thead>\n",
              "    <tr style=\"text-align: right;\">\n",
              "      <th></th>\n",
              "      <th>0</th>\n",
              "    </tr>\n",
              "  </thead>\n",
              "  <tbody>\n",
              "    <tr>\n",
              "      <th>Company Tenure (In Months)</th>\n",
              "      <td>2413</td>\n",
              "    </tr>\n",
              "    <tr>\n",
              "      <th>Distance from Home</th>\n",
              "      <td>1912</td>\n",
              "    </tr>\n",
              "    <tr>\n",
              "      <th>Employee ID</th>\n",
              "      <td>0</td>\n",
              "    </tr>\n",
              "    <tr>\n",
              "      <th>Age</th>\n",
              "      <td>0</td>\n",
              "    </tr>\n",
              "    <tr>\n",
              "      <th>Job Role</th>\n",
              "      <td>0</td>\n",
              "    </tr>\n",
              "    <tr>\n",
              "      <th>Monthly Income</th>\n",
              "      <td>0</td>\n",
              "    </tr>\n",
              "    <tr>\n",
              "      <th>Gender</th>\n",
              "      <td>0</td>\n",
              "    </tr>\n",
              "    <tr>\n",
              "      <th>Years at Company</th>\n",
              "      <td>0</td>\n",
              "    </tr>\n",
              "    <tr>\n",
              "      <th>Job Satisfaction</th>\n",
              "      <td>0</td>\n",
              "    </tr>\n",
              "    <tr>\n",
              "      <th>Work-Life Balance</th>\n",
              "      <td>0</td>\n",
              "    </tr>\n",
              "    <tr>\n",
              "      <th>Number of Promotions</th>\n",
              "      <td>0</td>\n",
              "    </tr>\n",
              "    <tr>\n",
              "      <th>Performance Rating</th>\n",
              "      <td>0</td>\n",
              "    </tr>\n",
              "    <tr>\n",
              "      <th>Education Level</th>\n",
              "      <td>0</td>\n",
              "    </tr>\n",
              "    <tr>\n",
              "      <th>Marital Status</th>\n",
              "      <td>0</td>\n",
              "    </tr>\n",
              "    <tr>\n",
              "      <th>Number of Dependents</th>\n",
              "      <td>0</td>\n",
              "    </tr>\n",
              "    <tr>\n",
              "      <th>Overtime</th>\n",
              "      <td>0</td>\n",
              "    </tr>\n",
              "    <tr>\n",
              "      <th>Job Level</th>\n",
              "      <td>0</td>\n",
              "    </tr>\n",
              "    <tr>\n",
              "      <th>Company Size</th>\n",
              "      <td>0</td>\n",
              "    </tr>\n",
              "    <tr>\n",
              "      <th>Remote Work</th>\n",
              "      <td>0</td>\n",
              "    </tr>\n",
              "    <tr>\n",
              "      <th>Leadership Opportunities</th>\n",
              "      <td>0</td>\n",
              "    </tr>\n",
              "    <tr>\n",
              "      <th>Innovation Opportunities</th>\n",
              "      <td>0</td>\n",
              "    </tr>\n",
              "    <tr>\n",
              "      <th>Company Reputation</th>\n",
              "      <td>0</td>\n",
              "    </tr>\n",
              "    <tr>\n",
              "      <th>Employee Recognition</th>\n",
              "      <td>0</td>\n",
              "    </tr>\n",
              "    <tr>\n",
              "      <th>Attrition</th>\n",
              "      <td>0</td>\n",
              "    </tr>\n",
              "  </tbody>\n",
              "</table>\n",
              "</div><br><label><b>dtype:</b> int64</label>"
            ]
          },
          "metadata": {},
          "execution_count": 15
        }
      ],
      "source": [
        "# Check the number of missing values in each column\n",
        "df.isnull().sum().sort_values(ascending=False)"
      ]
    },
    {
      "cell_type": "markdown",
      "metadata": {
        "id": "vcFIVIOlR_91"
      },
      "source": [
        "2.1.2 Check the percentage of missing values <font color=\"red\">[2 Marks]</font>"
      ]
    },
    {
      "cell_type": "code",
      "execution_count": 17,
      "metadata": {
        "id": "sjpnMExYbzE9",
        "colab": {
          "base_uri": "https://localhost:8080/",
          "height": 836
        },
        "outputId": "ce57e26b-c438-4714-95d7-d4e5fd766be8"
      },
      "outputs": [
        {
          "output_type": "execute_result",
          "data": {
            "text/plain": [
              "Company Tenure (In Months)    3.234151\n",
              "Distance from Home            2.562659\n",
              "Employee ID                   0.000000\n",
              "Age                           0.000000\n",
              "Job Role                      0.000000\n",
              "Monthly Income                0.000000\n",
              "Gender                        0.000000\n",
              "Years at Company              0.000000\n",
              "Job Satisfaction              0.000000\n",
              "Work-Life Balance             0.000000\n",
              "Number of Promotions          0.000000\n",
              "Performance Rating            0.000000\n",
              "Education Level               0.000000\n",
              "Marital Status                0.000000\n",
              "Number of Dependents          0.000000\n",
              "Overtime                      0.000000\n",
              "Job Level                     0.000000\n",
              "Company Size                  0.000000\n",
              "Remote Work                   0.000000\n",
              "Leadership Opportunities      0.000000\n",
              "Innovation Opportunities      0.000000\n",
              "Company Reputation            0.000000\n",
              "Employee Recognition          0.000000\n",
              "Attrition                     0.000000\n",
              "dtype: float64"
            ],
            "text/html": [
              "<div>\n",
              "<style scoped>\n",
              "    .dataframe tbody tr th:only-of-type {\n",
              "        vertical-align: middle;\n",
              "    }\n",
              "\n",
              "    .dataframe tbody tr th {\n",
              "        vertical-align: top;\n",
              "    }\n",
              "\n",
              "    .dataframe thead th {\n",
              "        text-align: right;\n",
              "    }\n",
              "</style>\n",
              "<table border=\"1\" class=\"dataframe\">\n",
              "  <thead>\n",
              "    <tr style=\"text-align: right;\">\n",
              "      <th></th>\n",
              "      <th>0</th>\n",
              "    </tr>\n",
              "  </thead>\n",
              "  <tbody>\n",
              "    <tr>\n",
              "      <th>Company Tenure (In Months)</th>\n",
              "      <td>3.234151</td>\n",
              "    </tr>\n",
              "    <tr>\n",
              "      <th>Distance from Home</th>\n",
              "      <td>2.562659</td>\n",
              "    </tr>\n",
              "    <tr>\n",
              "      <th>Employee ID</th>\n",
              "      <td>0.000000</td>\n",
              "    </tr>\n",
              "    <tr>\n",
              "      <th>Age</th>\n",
              "      <td>0.000000</td>\n",
              "    </tr>\n",
              "    <tr>\n",
              "      <th>Job Role</th>\n",
              "      <td>0.000000</td>\n",
              "    </tr>\n",
              "    <tr>\n",
              "      <th>Monthly Income</th>\n",
              "      <td>0.000000</td>\n",
              "    </tr>\n",
              "    <tr>\n",
              "      <th>Gender</th>\n",
              "      <td>0.000000</td>\n",
              "    </tr>\n",
              "    <tr>\n",
              "      <th>Years at Company</th>\n",
              "      <td>0.000000</td>\n",
              "    </tr>\n",
              "    <tr>\n",
              "      <th>Job Satisfaction</th>\n",
              "      <td>0.000000</td>\n",
              "    </tr>\n",
              "    <tr>\n",
              "      <th>Work-Life Balance</th>\n",
              "      <td>0.000000</td>\n",
              "    </tr>\n",
              "    <tr>\n",
              "      <th>Number of Promotions</th>\n",
              "      <td>0.000000</td>\n",
              "    </tr>\n",
              "    <tr>\n",
              "      <th>Performance Rating</th>\n",
              "      <td>0.000000</td>\n",
              "    </tr>\n",
              "    <tr>\n",
              "      <th>Education Level</th>\n",
              "      <td>0.000000</td>\n",
              "    </tr>\n",
              "    <tr>\n",
              "      <th>Marital Status</th>\n",
              "      <td>0.000000</td>\n",
              "    </tr>\n",
              "    <tr>\n",
              "      <th>Number of Dependents</th>\n",
              "      <td>0.000000</td>\n",
              "    </tr>\n",
              "    <tr>\n",
              "      <th>Overtime</th>\n",
              "      <td>0.000000</td>\n",
              "    </tr>\n",
              "    <tr>\n",
              "      <th>Job Level</th>\n",
              "      <td>0.000000</td>\n",
              "    </tr>\n",
              "    <tr>\n",
              "      <th>Company Size</th>\n",
              "      <td>0.000000</td>\n",
              "    </tr>\n",
              "    <tr>\n",
              "      <th>Remote Work</th>\n",
              "      <td>0.000000</td>\n",
              "    </tr>\n",
              "    <tr>\n",
              "      <th>Leadership Opportunities</th>\n",
              "      <td>0.000000</td>\n",
              "    </tr>\n",
              "    <tr>\n",
              "      <th>Innovation Opportunities</th>\n",
              "      <td>0.000000</td>\n",
              "    </tr>\n",
              "    <tr>\n",
              "      <th>Company Reputation</th>\n",
              "      <td>0.000000</td>\n",
              "    </tr>\n",
              "    <tr>\n",
              "      <th>Employee Recognition</th>\n",
              "      <td>0.000000</td>\n",
              "    </tr>\n",
              "    <tr>\n",
              "      <th>Attrition</th>\n",
              "      <td>0.000000</td>\n",
              "    </tr>\n",
              "  </tbody>\n",
              "</table>\n",
              "</div><br><label><b>dtype:</b> float64</label>"
            ]
          },
          "metadata": {},
          "execution_count": 17
        }
      ],
      "source": [
        "# Check the percentage of missing values in each column\n",
        "((df.isnull().sum() / len(df)) * 100).sort_values(ascending=False)"
      ]
    },
    {
      "cell_type": "markdown",
      "metadata": {
        "id": "MJL1T8-Sd6S-"
      },
      "source": [
        "2.1.3 Handle rows with missing values <font color=\"red\">[4 Marks]</font>"
      ]
    },
    {
      "cell_type": "code",
      "execution_count": 18,
      "metadata": {
        "id": "qIMPqTTWbzE_",
        "colab": {
          "base_uri": "https://localhost:8080/",
          "height": 489
        },
        "outputId": "e47201f6-82af-4207-a128-f94301803945"
      },
      "outputs": [
        {
          "output_type": "execute_result",
          "data": {
            "text/plain": [
              "Company Tenure (In Months)\n",
              "43.0     971\n",
              "65.0     960\n",
              "50.0     950\n",
              "59.0     945\n",
              "52.0     945\n",
              "        ... \n",
              "123.0     12\n",
              "125.0     12\n",
              "126.0      7\n",
              "127.0      3\n",
              "128.0      1\n",
              "Name: count, Length: 127, dtype: int64"
            ],
            "text/html": [
              "<div>\n",
              "<style scoped>\n",
              "    .dataframe tbody tr th:only-of-type {\n",
              "        vertical-align: middle;\n",
              "    }\n",
              "\n",
              "    .dataframe tbody tr th {\n",
              "        vertical-align: top;\n",
              "    }\n",
              "\n",
              "    .dataframe thead th {\n",
              "        text-align: right;\n",
              "    }\n",
              "</style>\n",
              "<table border=\"1\" class=\"dataframe\">\n",
              "  <thead>\n",
              "    <tr style=\"text-align: right;\">\n",
              "      <th></th>\n",
              "      <th>count</th>\n",
              "    </tr>\n",
              "    <tr>\n",
              "      <th>Company Tenure (In Months)</th>\n",
              "      <th></th>\n",
              "    </tr>\n",
              "  </thead>\n",
              "  <tbody>\n",
              "    <tr>\n",
              "      <th>43.0</th>\n",
              "      <td>971</td>\n",
              "    </tr>\n",
              "    <tr>\n",
              "      <th>65.0</th>\n",
              "      <td>960</td>\n",
              "    </tr>\n",
              "    <tr>\n",
              "      <th>50.0</th>\n",
              "      <td>950</td>\n",
              "    </tr>\n",
              "    <tr>\n",
              "      <th>59.0</th>\n",
              "      <td>945</td>\n",
              "    </tr>\n",
              "    <tr>\n",
              "      <th>52.0</th>\n",
              "      <td>945</td>\n",
              "    </tr>\n",
              "    <tr>\n",
              "      <th>...</th>\n",
              "      <td>...</td>\n",
              "    </tr>\n",
              "    <tr>\n",
              "      <th>123.0</th>\n",
              "      <td>12</td>\n",
              "    </tr>\n",
              "    <tr>\n",
              "      <th>125.0</th>\n",
              "      <td>12</td>\n",
              "    </tr>\n",
              "    <tr>\n",
              "      <th>126.0</th>\n",
              "      <td>7</td>\n",
              "    </tr>\n",
              "    <tr>\n",
              "      <th>127.0</th>\n",
              "      <td>3</td>\n",
              "    </tr>\n",
              "    <tr>\n",
              "      <th>128.0</th>\n",
              "      <td>1</td>\n",
              "    </tr>\n",
              "  </tbody>\n",
              "</table>\n",
              "<p>127 rows × 1 columns</p>\n",
              "</div><br><label><b>dtype:</b> int64</label>"
            ]
          },
          "metadata": {},
          "execution_count": 18
        }
      ],
      "source": [
        "# Handle the missing value rows in the column\n",
        "# Company Tenure (In Months) , Distance from Home (these two column have missing values)\n",
        "df[\"Company Tenure (In Months)\"].value_counts()"
      ]
    },
    {
      "cell_type": "code",
      "source": [
        "len(df[\"Company Tenure (In Months)\"].value_counts())"
      ],
      "metadata": {
        "colab": {
          "base_uri": "https://localhost:8080/"
        },
        "id": "kLsMG7utBqaS",
        "outputId": "e3f3da0a-edcf-483c-d6fc-ba6bf6f326d5"
      },
      "execution_count": 19,
      "outputs": [
        {
          "output_type": "execute_result",
          "data": {
            "text/plain": [
              "127"
            ]
          },
          "metadata": {},
          "execution_count": 19
        }
      ]
    },
    {
      "cell_type": "code",
      "source": [
        "print(\"Skewness of Distance from Home:\", df[\"Distance from Home\"].skew())\n",
        "print(\"Skewness of Company Tenure (In Months):\", df[\"Company Tenure (In Months)\"].skew())\n",
        "#  i am taking mean to fill the null values data is not that much skew"
      ],
      "metadata": {
        "colab": {
          "base_uri": "https://localhost:8080/"
        },
        "id": "uzrkQT5qCb3s",
        "outputId": "7416e32f-51fd-440f-b167-5578d99d271b"
      },
      "execution_count": 21,
      "outputs": [
        {
          "output_type": "stream",
          "name": "stdout",
          "text": [
            "Skewness of Distance from Home: 0.001752196934202311\n",
            "Skewness of Company Tenure (In Months): 0.06610416610811336\n"
          ]
        }
      ]
    },
    {
      "cell_type": "code",
      "source": [
        "df[\"Distance from Home\"].fillna(df[\"Distance from Home\"].mean(), inplace=True)\n",
        "df[\"Company Tenure (In Months)\"].fillna(df[\"Company Tenure (In Months)\"].mean(), inplace=True)"
      ],
      "metadata": {
        "id": "pSnznzjfDltJ"
      },
      "execution_count": 22,
      "outputs": []
    },
    {
      "cell_type": "markdown",
      "metadata": {
        "id": "uefvEMkDeJhv"
      },
      "source": [
        "2.1.4 Check percentage of remaning data after missing values are removed <font color=\"red\">[2 Mark]</font>"
      ]
    },
    {
      "cell_type": "code",
      "execution_count": 23,
      "metadata": {
        "id": "SPIVeWX2bzFA",
        "colab": {
          "base_uri": "https://localhost:8080/",
          "height": 836
        },
        "outputId": "73e0a0db-c9cb-4899-ba0d-fa5400f030ff"
      },
      "outputs": [
        {
          "output_type": "execute_result",
          "data": {
            "text/plain": [
              "Employee ID                   0.0\n",
              "Age                           0.0\n",
              "Gender                        0.0\n",
              "Years at Company              0.0\n",
              "Job Role                      0.0\n",
              "Monthly Income                0.0\n",
              "Work-Life Balance             0.0\n",
              "Job Satisfaction              0.0\n",
              "Performance Rating            0.0\n",
              "Number of Promotions          0.0\n",
              "Overtime                      0.0\n",
              "Distance from Home            0.0\n",
              "Education Level               0.0\n",
              "Marital Status                0.0\n",
              "Number of Dependents          0.0\n",
              "Job Level                     0.0\n",
              "Company Size                  0.0\n",
              "Company Tenure (In Months)    0.0\n",
              "Remote Work                   0.0\n",
              "Leadership Opportunities      0.0\n",
              "Innovation Opportunities      0.0\n",
              "Company Reputation            0.0\n",
              "Employee Recognition          0.0\n",
              "Attrition                     0.0\n",
              "dtype: float64"
            ],
            "text/html": [
              "<div>\n",
              "<style scoped>\n",
              "    .dataframe tbody tr th:only-of-type {\n",
              "        vertical-align: middle;\n",
              "    }\n",
              "\n",
              "    .dataframe tbody tr th {\n",
              "        vertical-align: top;\n",
              "    }\n",
              "\n",
              "    .dataframe thead th {\n",
              "        text-align: right;\n",
              "    }\n",
              "</style>\n",
              "<table border=\"1\" class=\"dataframe\">\n",
              "  <thead>\n",
              "    <tr style=\"text-align: right;\">\n",
              "      <th></th>\n",
              "      <th>0</th>\n",
              "    </tr>\n",
              "  </thead>\n",
              "  <tbody>\n",
              "    <tr>\n",
              "      <th>Employee ID</th>\n",
              "      <td>0.0</td>\n",
              "    </tr>\n",
              "    <tr>\n",
              "      <th>Age</th>\n",
              "      <td>0.0</td>\n",
              "    </tr>\n",
              "    <tr>\n",
              "      <th>Gender</th>\n",
              "      <td>0.0</td>\n",
              "    </tr>\n",
              "    <tr>\n",
              "      <th>Years at Company</th>\n",
              "      <td>0.0</td>\n",
              "    </tr>\n",
              "    <tr>\n",
              "      <th>Job Role</th>\n",
              "      <td>0.0</td>\n",
              "    </tr>\n",
              "    <tr>\n",
              "      <th>Monthly Income</th>\n",
              "      <td>0.0</td>\n",
              "    </tr>\n",
              "    <tr>\n",
              "      <th>Work-Life Balance</th>\n",
              "      <td>0.0</td>\n",
              "    </tr>\n",
              "    <tr>\n",
              "      <th>Job Satisfaction</th>\n",
              "      <td>0.0</td>\n",
              "    </tr>\n",
              "    <tr>\n",
              "      <th>Performance Rating</th>\n",
              "      <td>0.0</td>\n",
              "    </tr>\n",
              "    <tr>\n",
              "      <th>Number of Promotions</th>\n",
              "      <td>0.0</td>\n",
              "    </tr>\n",
              "    <tr>\n",
              "      <th>Overtime</th>\n",
              "      <td>0.0</td>\n",
              "    </tr>\n",
              "    <tr>\n",
              "      <th>Distance from Home</th>\n",
              "      <td>0.0</td>\n",
              "    </tr>\n",
              "    <tr>\n",
              "      <th>Education Level</th>\n",
              "      <td>0.0</td>\n",
              "    </tr>\n",
              "    <tr>\n",
              "      <th>Marital Status</th>\n",
              "      <td>0.0</td>\n",
              "    </tr>\n",
              "    <tr>\n",
              "      <th>Number of Dependents</th>\n",
              "      <td>0.0</td>\n",
              "    </tr>\n",
              "    <tr>\n",
              "      <th>Job Level</th>\n",
              "      <td>0.0</td>\n",
              "    </tr>\n",
              "    <tr>\n",
              "      <th>Company Size</th>\n",
              "      <td>0.0</td>\n",
              "    </tr>\n",
              "    <tr>\n",
              "      <th>Company Tenure (In Months)</th>\n",
              "      <td>0.0</td>\n",
              "    </tr>\n",
              "    <tr>\n",
              "      <th>Remote Work</th>\n",
              "      <td>0.0</td>\n",
              "    </tr>\n",
              "    <tr>\n",
              "      <th>Leadership Opportunities</th>\n",
              "      <td>0.0</td>\n",
              "    </tr>\n",
              "    <tr>\n",
              "      <th>Innovation Opportunities</th>\n",
              "      <td>0.0</td>\n",
              "    </tr>\n",
              "    <tr>\n",
              "      <th>Company Reputation</th>\n",
              "      <td>0.0</td>\n",
              "    </tr>\n",
              "    <tr>\n",
              "      <th>Employee Recognition</th>\n",
              "      <td>0.0</td>\n",
              "    </tr>\n",
              "    <tr>\n",
              "      <th>Attrition</th>\n",
              "      <td>0.0</td>\n",
              "    </tr>\n",
              "  </tbody>\n",
              "</table>\n",
              "</div><br><label><b>dtype:</b> float64</label>"
            ]
          },
          "metadata": {},
          "execution_count": 23
        }
      ],
      "source": [
        "# Check the percentage of remaining data after missing values are removed\n",
        "((df.isnull().sum() / len(df)) * 100).sort_values(ascending=False)"
      ]
    },
    {
      "cell_type": "markdown",
      "metadata": {
        "id": "TbUOnf6rGEF1"
      },
      "source": [
        "### **2.2 Identify and handle redundant values within categorical columns (if any)** <font color = red>[3 marks]</font>"
      ]
    },
    {
      "cell_type": "markdown",
      "metadata": {
        "id": "kEYeQw_SeaLi"
      },
      "source": [
        "Examine the categorical columns to determine if any value or column needs to be treated"
      ]
    },
    {
      "cell_type": "code",
      "execution_count": 33,
      "metadata": {
        "id": "DIBKtZhZjIk6"
      },
      "outputs": [],
      "source": [
        "# Write a function to display the categorical columns with their unique values and check for redundant values\n",
        "def redundant_values(x):\n",
        "    print(f\"{x.value_counts()} \\n-------------------------\")"
      ]
    },
    {
      "cell_type": "code",
      "execution_count": 34,
      "metadata": {
        "id": "P5eoGWCSbzFC",
        "colab": {
          "base_uri": "https://localhost:8080/",
          "height": 1000
        },
        "outputId": "bea3b81e-72fb-4dc8-b9a4-a49e6ef7b331"
      },
      "outputs": [
        {
          "output_type": "stream",
          "name": "stdout",
          "text": [
            "Gender\n",
            "Male      40898\n",
            "Female    33712\n",
            "Name: count, dtype: int64 \n",
            "-------------------------\n",
            "Job Role\n",
            "Technology    19350\n",
            "Healthcare    17107\n",
            "Education     15679\n",
            "Media         12011\n",
            "Finance       10463\n",
            "Name: count, dtype: int64 \n",
            "-------------------------\n",
            "Work-Life Balance\n",
            "Good         28196\n",
            "Fair         22569\n",
            "Excellent    13451\n",
            "Poor         10394\n",
            "Name: count, dtype: int64 \n",
            "-------------------------\n",
            "Job Satisfaction\n",
            "High         37306\n",
            "Very High    15101\n",
            "Medium       14738\n",
            "Low           7465\n",
            "Name: count, dtype: int64 \n",
            "-------------------------\n",
            "Performance Rating\n",
            "Average          44786\n",
            "High             14938\n",
            "Below Average    11150\n",
            "Low               3736\n",
            "Name: count, dtype: int64 \n",
            "-------------------------\n",
            "Overtime\n",
            "No     50230\n",
            "Yes    24380\n",
            "Name: count, dtype: int64 \n",
            "-------------------------\n",
            "Education Level\n",
            "Bachelorâ€™s Degree    22365\n",
            "Associate Degree       18678\n",
            "Masterâ€™s Degree      15044\n",
            "High School            14701\n",
            "PhD                     3822\n",
            "Name: count, dtype: int64 \n",
            "-------------------------\n",
            "Marital Status\n",
            "Married     37470\n",
            "Single      26039\n",
            "Divorced    11101\n",
            "Name: count, dtype: int64 \n",
            "-------------------------\n",
            "Job Level\n",
            "Entry     29820\n",
            "Mid       29730\n",
            "Senior    15060\n",
            "Name: count, dtype: int64 \n",
            "-------------------------\n",
            "Company Size\n",
            "Medium    37281\n",
            "Small     22394\n",
            "Large     14935\n",
            "Name: count, dtype: int64 \n",
            "-------------------------\n",
            "Remote Work\n",
            "No     60390\n",
            "Yes    14220\n",
            "Name: count, dtype: int64 \n",
            "-------------------------\n",
            "Leadership Opportunities\n",
            "No     70952\n",
            "Yes     3658\n",
            "Name: count, dtype: int64 \n",
            "-------------------------\n",
            "Innovation Opportunities\n",
            "No     62486\n",
            "Yes    12124\n",
            "Name: count, dtype: int64 \n",
            "-------------------------\n",
            "Company Reputation\n",
            "Good         37241\n",
            "Poor         15142\n",
            "Fair         14805\n",
            "Excellent     7422\n",
            "Name: count, dtype: int64 \n",
            "-------------------------\n",
            "Employee Recognition\n",
            "Low          29654\n",
            "Medium       22694\n",
            "High         18583\n",
            "Very High     3679\n",
            "Name: count, dtype: int64 \n",
            "-------------------------\n",
            "Attrition\n",
            "Stayed    39191\n",
            "Left      35419\n",
            "Name: count, dtype: int64 \n",
            "-------------------------\n"
          ]
        },
        {
          "output_type": "execute_result",
          "data": {
            "text/plain": [
              "Gender                      None\n",
              "Job Role                    None\n",
              "Work-Life Balance           None\n",
              "Job Satisfaction            None\n",
              "Performance Rating          None\n",
              "Overtime                    None\n",
              "Education Level             None\n",
              "Marital Status              None\n",
              "Job Level                   None\n",
              "Company Size                None\n",
              "Remote Work                 None\n",
              "Leadership Opportunities    None\n",
              "Innovation Opportunities    None\n",
              "Company Reputation          None\n",
              "Employee Recognition        None\n",
              "Attrition                   None\n",
              "dtype: object"
            ],
            "text/html": [
              "<div>\n",
              "<style scoped>\n",
              "    .dataframe tbody tr th:only-of-type {\n",
              "        vertical-align: middle;\n",
              "    }\n",
              "\n",
              "    .dataframe tbody tr th {\n",
              "        vertical-align: top;\n",
              "    }\n",
              "\n",
              "    .dataframe thead th {\n",
              "        text-align: right;\n",
              "    }\n",
              "</style>\n",
              "<table border=\"1\" class=\"dataframe\">\n",
              "  <thead>\n",
              "    <tr style=\"text-align: right;\">\n",
              "      <th></th>\n",
              "      <th>0</th>\n",
              "    </tr>\n",
              "  </thead>\n",
              "  <tbody>\n",
              "    <tr>\n",
              "      <th>Gender</th>\n",
              "      <td>None</td>\n",
              "    </tr>\n",
              "    <tr>\n",
              "      <th>Job Role</th>\n",
              "      <td>None</td>\n",
              "    </tr>\n",
              "    <tr>\n",
              "      <th>Work-Life Balance</th>\n",
              "      <td>None</td>\n",
              "    </tr>\n",
              "    <tr>\n",
              "      <th>Job Satisfaction</th>\n",
              "      <td>None</td>\n",
              "    </tr>\n",
              "    <tr>\n",
              "      <th>Performance Rating</th>\n",
              "      <td>None</td>\n",
              "    </tr>\n",
              "    <tr>\n",
              "      <th>Overtime</th>\n",
              "      <td>None</td>\n",
              "    </tr>\n",
              "    <tr>\n",
              "      <th>Education Level</th>\n",
              "      <td>None</td>\n",
              "    </tr>\n",
              "    <tr>\n",
              "      <th>Marital Status</th>\n",
              "      <td>None</td>\n",
              "    </tr>\n",
              "    <tr>\n",
              "      <th>Job Level</th>\n",
              "      <td>None</td>\n",
              "    </tr>\n",
              "    <tr>\n",
              "      <th>Company Size</th>\n",
              "      <td>None</td>\n",
              "    </tr>\n",
              "    <tr>\n",
              "      <th>Remote Work</th>\n",
              "      <td>None</td>\n",
              "    </tr>\n",
              "    <tr>\n",
              "      <th>Leadership Opportunities</th>\n",
              "      <td>None</td>\n",
              "    </tr>\n",
              "    <tr>\n",
              "      <th>Innovation Opportunities</th>\n",
              "      <td>None</td>\n",
              "    </tr>\n",
              "    <tr>\n",
              "      <th>Company Reputation</th>\n",
              "      <td>None</td>\n",
              "    </tr>\n",
              "    <tr>\n",
              "      <th>Employee Recognition</th>\n",
              "      <td>None</td>\n",
              "    </tr>\n",
              "    <tr>\n",
              "      <th>Attrition</th>\n",
              "      <td>None</td>\n",
              "    </tr>\n",
              "  </tbody>\n",
              "</table>\n",
              "</div><br><label><b>dtype:</b> object</label>"
            ]
          },
          "metadata": {},
          "execution_count": 34
        }
      ],
      "source": [
        "# Check the data\n",
        "categorical_df = df.select_dtypes(include=['object'])\n",
        "\n",
        "categorical_df.apply(redundant_values)"
      ]
    },
    {
      "cell_type": "markdown",
      "metadata": {
        "id": "7bfojd-9ek3I"
      },
      "source": [
        "### **2.3 Drop redundant columns** <font color = red>[2 marks]</font>"
      ]
    },
    {
      "cell_type": "code",
      "execution_count": null,
      "metadata": {
        "id": "G4tBQCuxbzFC"
      },
      "outputs": [],
      "source": [
        "# Drop redundant columns which are not required for modelling\n"
      ]
    },
    {
      "cell_type": "code",
      "execution_count": null,
      "metadata": {
        "id": "diL_DCV9bzFC"
      },
      "outputs": [],
      "source": [
        "# Check first few rows of data\n"
      ]
    },
    {
      "cell_type": "markdown",
      "metadata": {
        "id": "4j3GERIwML89"
      },
      "source": [
        "## **3. Train-Validation Split** <font color = red>[5 marks]</font>"
      ]
    },
    {
      "cell_type": "markdown",
      "metadata": {
        "id": "3k6v53qJhWvt"
      },
      "source": [
        "### **3.1 Import required libraries**"
      ]
    },
    {
      "cell_type": "code",
      "execution_count": null,
      "metadata": {
        "id": "sYg9FxlvbzFH"
      },
      "outputs": [],
      "source": [
        "# Import Train Test Split\n"
      ]
    },
    {
      "cell_type": "markdown",
      "metadata": {
        "id": "KZbrbFe2hex4"
      },
      "source": [
        "### **3.2 Define feature and target variables** <font color = red>[2 Mark]</font>"
      ]
    },
    {
      "cell_type": "code",
      "execution_count": null,
      "metadata": {
        "id": "UfJfQrc5bzFH"
      },
      "outputs": [],
      "source": [
        "# Put all the feature variables in X\n",
        "\n",
        "# Put the target variable in y\n"
      ]
    },
    {
      "cell_type": "markdown",
      "metadata": {
        "id": "say6J66Bh9mo"
      },
      "source": [
        "### **3.3 Split the data** <font color=\"red\">[3 Marks]</font>"
      ]
    },
    {
      "cell_type": "code",
      "execution_count": null,
      "metadata": {
        "id": "zghEvbRUbzFH"
      },
      "outputs": [],
      "source": [
        "# Split the data into 70% train data and 30% validation data\n"
      ]
    },
    {
      "cell_type": "markdown",
      "metadata": {
        "id": "ldKNxCXogIz2"
      },
      "source": [
        "## **4. EDA on training data** <font color = red>[20 marks]</font>"
      ]
    },
    {
      "cell_type": "markdown",
      "metadata": {
        "id": "CGyYCt8-ZBR1"
      },
      "source": [
        "### **4.1 Perform univariate analysis** <font color = red>[6 marks]</font>"
      ]
    },
    {
      "cell_type": "markdown",
      "metadata": {
        "id": "YTdmWrZ1gjmv"
      },
      "source": [
        "Perform univariate analysis on training data for all the numerical columns.\n",
        "\n",
        "\n"
      ]
    },
    {
      "cell_type": "markdown",
      "metadata": {
        "id": "hDDjpMUcZPrp"
      },
      "source": [
        "4.1.1 Select numerical columns from training data <font color = \"red\">[1 Mark]</font>"
      ]
    },
    {
      "cell_type": "code",
      "execution_count": null,
      "metadata": {
        "id": "ilQNUm3ugqEb"
      },
      "outputs": [],
      "source": [
        "# Select numerical columns\n"
      ]
    },
    {
      "cell_type": "markdown",
      "metadata": {
        "id": "kx8SQw19ZfXw"
      },
      "source": [
        "4.1.2 Plot distribution of numerical columns <font color = \"red\">[5 Marks]</font>"
      ]
    },
    {
      "cell_type": "code",
      "execution_count": null,
      "metadata": {
        "id": "zH5WGU_tgxnL"
      },
      "outputs": [],
      "source": [
        "# Plot all the numerical columns to understand their distribution\n",
        "\n",
        "# Import necessary libraries\n",
        "import seaborn as sns\n",
        "import matplotlib.pyplot as plt\n"
      ]
    },
    {
      "cell_type": "markdown",
      "metadata": {
        "id": "ZwJQGBQuZwnC"
      },
      "source": [
        "### **4.2 Perform correlation analysis** <font color=\"red\">[4 Marks]</font>"
      ]
    },
    {
      "cell_type": "markdown",
      "metadata": {
        "id": "RN3ENFP6oRjq"
      },
      "source": [
        "Check the correlation among different numerical variables."
      ]
    },
    {
      "cell_type": "code",
      "execution_count": null,
      "metadata": {
        "id": "qPFKI4vZoXXw"
      },
      "outputs": [],
      "source": [
        "# Create correlation matrix for numerical columns\n",
        "\n",
        "# Plot Heatmap of the correlation matrix\n"
      ]
    },
    {
      "cell_type": "markdown",
      "metadata": {
        "id": "g6YQGm9HaKA7"
      },
      "source": [
        "### **4.3 Check class balance** <font color=\"red\">[2 Marks]</font>"
      ]
    },
    {
      "cell_type": "markdown",
      "metadata": {
        "id": "_--fA2Dcpjml"
      },
      "source": [
        "Check the distribution of target variable in training set to check class balance."
      ]
    },
    {
      "cell_type": "code",
      "execution_count": null,
      "metadata": {
        "id": "Lp-suUWKpn8h"
      },
      "outputs": [],
      "source": [
        "# Plot a bar chart to check class balance\n"
      ]
    },
    {
      "cell_type": "markdown",
      "metadata": {
        "id": "lZ-lppqAaeZM"
      },
      "source": [
        "### **4.4 Perform bivariate analysis** <font color=\"red\">[8 Marks]</font>"
      ]
    },
    {
      "cell_type": "markdown",
      "metadata": {
        "id": "i4JjkVzja1kA"
      },
      "source": [
        "Perform bivariate analysis on training data between all the categorical columns and target variable to  analyse how the categorical variables influence the target variable."
      ]
    },
    {
      "cell_type": "code",
      "execution_count": null,
      "metadata": {
        "id": "3-rK15xjsv6f"
      },
      "outputs": [],
      "source": [
        "# Plot distribution for each categorical column with target variable\n"
      ]
    },
    {
      "cell_type": "markdown",
      "metadata": {
        "id": "nqRcfQ4avArz"
      },
      "source": [
        "## **5. EDA on validation data** <font color = red>[OPTIONAL]</font>"
      ]
    },
    {
      "cell_type": "markdown",
      "metadata": {
        "id": "I9Iq1uvfa7ro"
      },
      "source": [
        "### **5.1 Perform univariate analysis**"
      ]
    },
    {
      "cell_type": "markdown",
      "metadata": {
        "id": "EScWfXFNvAr3"
      },
      "source": [
        "Perform univariate analysis on validation data for all the numerical columns.\n"
      ]
    },
    {
      "cell_type": "markdown",
      "metadata": {
        "id": "ofFfSSPSa0sD"
      },
      "source": [
        "5.1.1 Select numerical columns from validation data"
      ]
    },
    {
      "cell_type": "code",
      "execution_count": null,
      "metadata": {
        "id": "BpkHJm8BvAr3"
      },
      "outputs": [],
      "source": [
        "# Select numerical columns\n"
      ]
    },
    {
      "cell_type": "markdown",
      "metadata": {
        "id": "vZbQ8HzRbDPP"
      },
      "source": [
        "5.1.2 Plot distribution of numerical columns"
      ]
    },
    {
      "cell_type": "code",
      "execution_count": null,
      "metadata": {
        "id": "VoNtrdrUvAr4"
      },
      "outputs": [],
      "source": [
        "# Plot all the numerical columns to understand their distribution\n"
      ]
    },
    {
      "cell_type": "markdown",
      "metadata": {
        "id": "85zpsiHUvAr4"
      },
      "source": [
        "### **5.2 Perform correlation analysis**"
      ]
    },
    {
      "cell_type": "markdown",
      "metadata": {
        "id": "5TcmX7ywaWuo"
      },
      "source": [
        "Check the correlation among different numerical variables."
      ]
    },
    {
      "cell_type": "code",
      "execution_count": null,
      "metadata": {
        "id": "ylnfMmNqvAr4"
      },
      "outputs": [],
      "source": [
        "# Create correlation matrix for numerical columns\n",
        "\n",
        "# Plot Heatmap of the correlation matrix\n"
      ]
    },
    {
      "cell_type": "markdown",
      "metadata": {
        "id": "1fcm5Q1vvAr5"
      },
      "source": [
        "### **5.3 Check class balance**"
      ]
    },
    {
      "cell_type": "markdown",
      "metadata": {
        "id": "qz6Ewijyaa9h"
      },
      "source": [
        "Check the distribution of target variable in validation data to check class balance."
      ]
    },
    {
      "cell_type": "code",
      "execution_count": null,
      "metadata": {
        "id": "ZiHsUZnkvAr5"
      },
      "outputs": [],
      "source": [
        "# Plot a bar chart to check class balance\n"
      ]
    },
    {
      "cell_type": "markdown",
      "metadata": {
        "id": "YQAoo6aKbcWz"
      },
      "source": [
        "### **5.4 Perform bivariate analysis**"
      ]
    },
    {
      "cell_type": "markdown",
      "metadata": {
        "id": "14-qNV44djPP"
      },
      "source": [
        "Perform bivariate analysis on validation data between all the categorical columns and target variable to analyse how the categorical variables influence the target variable."
      ]
    },
    {
      "cell_type": "code",
      "execution_count": null,
      "metadata": {
        "id": "0EO4qSIovAr6"
      },
      "outputs": [],
      "source": [
        "# Plot distribution for each categorical column with target variable\n"
      ]
    },
    {
      "cell_type": "markdown",
      "metadata": {
        "id": "0DGrycx6wKmN"
      },
      "source": [
        "## **6. Feature Engineering** <font color = red>[20 marks]</font>"
      ]
    },
    {
      "cell_type": "markdown",
      "metadata": {
        "id": "xzdF2TmEbzFD"
      },
      "source": [
        "### **6.1 Dummy variable creation** <font color = red>[15 marks]</font>\n",
        "\n",
        "\n",
        "The next step is to deal with the categorical variables present in the data."
      ]
    },
    {
      "cell_type": "markdown",
      "metadata": {
        "id": "_vG9HZkVe3Lk"
      },
      "source": [
        "6.1.1 Identify categorical columns where dummy variables are required <font color=\"red\">[1 Mark]</font>"
      ]
    },
    {
      "cell_type": "code",
      "execution_count": null,
      "metadata": {
        "id": "7dUFEFVGbzFD"
      },
      "outputs": [],
      "source": [
        "# Check the categorical columns\n"
      ]
    },
    {
      "cell_type": "markdown",
      "metadata": {
        "id": "dLpmkPp6e-1j"
      },
      "source": [
        "6.1.2 Create dummy variables for independent columns in training set <font color=\"red\">[3 Marks]</font>"
      ]
    },
    {
      "cell_type": "code",
      "execution_count": null,
      "metadata": {
        "id": "x5vk968HbzFE"
      },
      "outputs": [],
      "source": [
        "# Create dummy variables using the 'get_dummies' for independent columns\n",
        "\n",
        "# Add the results to the master DataFrame\n"
      ]
    },
    {
      "cell_type": "markdown",
      "metadata": {
        "id": "xJFSbVR9uYjT"
      },
      "source": [
        "Now, drop the original categorical columns and check the DataFrame"
      ]
    },
    {
      "cell_type": "code",
      "execution_count": null,
      "metadata": {
        "id": "m-U8OPvKyOs-"
      },
      "outputs": [],
      "source": [
        "# Drop the original categorical columns and check the DataFrame\n"
      ]
    },
    {
      "cell_type": "markdown",
      "metadata": {
        "id": "kqMXYxpowQc6"
      },
      "source": [
        "6.1.3 Create dummy variables for independent columns in validation set <font color=\"red\">[3 Marks]</font>"
      ]
    },
    {
      "cell_type": "code",
      "execution_count": null,
      "metadata": {
        "id": "Ib8Zdq6Ruuj_"
      },
      "outputs": [],
      "source": [
        "# Create dummy variables using the 'get_dummies' for independent columns\n",
        "\n",
        "# Add the results to the master DataFrame\n"
      ]
    },
    {
      "cell_type": "markdown",
      "metadata": {
        "id": "9RDKGX9N4qLq"
      },
      "source": [
        "Now, drop the original categorical columns and check the DataFrame"
      ]
    },
    {
      "cell_type": "code",
      "execution_count": null,
      "metadata": {
        "id": "Dh6Mk_JvyUkz"
      },
      "outputs": [],
      "source": [
        "# Drop categorical columns and check the DataFrame\n"
      ]
    },
    {
      "cell_type": "markdown",
      "metadata": {
        "id": "zesgvCjzPHba"
      },
      "source": [
        "6.1.4 Create DataFrame for dependent column in both training and validation set <font color = \"red\">[1 Mark]</font>"
      ]
    },
    {
      "cell_type": "code",
      "execution_count": null,
      "metadata": {
        "id": "e2JTJRaa-qem"
      },
      "outputs": [],
      "source": [
        "# Convert y_train and y_validation to DataFrame to create dummy variables\n"
      ]
    },
    {
      "cell_type": "markdown",
      "metadata": {
        "id": "2QN-k-IHPX5s"
      },
      "source": [
        "6.1.5 Create dummy variables for dependent column in training set <font color=\"red\">[3 Marks]</font>"
      ]
    },
    {
      "cell_type": "code",
      "execution_count": null,
      "metadata": {
        "id": "OfrtF4a59LNK"
      },
      "outputs": [],
      "source": [
        "# Create dummy variables using the 'get_dummies' for dependent column\n"
      ]
    },
    {
      "cell_type": "markdown",
      "metadata": {
        "id": "8p_zQEx4w-OU"
      },
      "source": [
        "6.1.6 Create dummy variable for dependent column in validation set <font color = \"red\">[3 Marks]</font>"
      ]
    },
    {
      "cell_type": "code",
      "execution_count": null,
      "metadata": {
        "id": "5mWed8j5xOS7"
      },
      "outputs": [],
      "source": [
        "# Create dummy variables using the 'get_dummies' for dependent column\n"
      ]
    },
    {
      "cell_type": "markdown",
      "metadata": {
        "id": "-ej5eSB4PiCx"
      },
      "source": [
        "6.1.7 Drop redundant columns <font color=\"red\">[1 Mark]</font>"
      ]
    },
    {
      "cell_type": "code",
      "execution_count": null,
      "metadata": {
        "id": "WxYmaNE5Aoas"
      },
      "outputs": [],
      "source": [
        "# Drop redundant columns from both train and validation\n"
      ]
    },
    {
      "cell_type": "markdown",
      "metadata": {
        "id": "8zL0XwIAbzFH"
      },
      "source": [
        "### **6.2 Feature scaling** <font color = red>[5 marks]</font>\n",
        "\n",
        "Apply feature scaling to the numeric columns to bring them to a common range and ensure consistent scaling."
      ]
    },
    {
      "cell_type": "markdown",
      "metadata": {
        "id": "x2Di6iSjU41j"
      },
      "source": [
        "6.2.1 Import required libraries <font color=\"red\">[1 Mark]</font>"
      ]
    },
    {
      "cell_type": "code",
      "execution_count": null,
      "metadata": {
        "id": "AhsJWDc4bzFH"
      },
      "outputs": [],
      "source": [
        "# Import the necessary scaling tool from scikit-learn\n"
      ]
    },
    {
      "cell_type": "markdown",
      "metadata": {
        "id": "-RE9MEgQVAg8"
      },
      "source": [
        "6.2.2 Scale the numerical features <font color=\"red\">[4 Marks]</font>"
      ]
    },
    {
      "cell_type": "code",
      "execution_count": null,
      "metadata": {
        "id": "WCV2mKErbzFH"
      },
      "outputs": [],
      "source": [
        "# Scale the numeric features present in the training set\n",
        "\n",
        "# Scale the numerical features present in the validation set\n"
      ]
    },
    {
      "cell_type": "markdown",
      "metadata": {
        "id": "BFIOMdJqBRyw"
      },
      "source": [
        "## **7. Model Building** <font color = red>[40 marks]</font>"
      ]
    },
    {
      "cell_type": "markdown",
      "metadata": {
        "id": "5VrBY3MpbzFI"
      },
      "source": [
        "### **7.1 Feature selection** <font color = red>[5 marks]</font>\n",
        "\n",
        "As there are a lot of variables present in the data, Recursive Feature Elimination (RFE) will be used to select the most influential features for building the model."
      ]
    },
    {
      "cell_type": "markdown",
      "metadata": {
        "id": "927evRo1VO4e"
      },
      "source": [
        "7.1.1 Import required libraries <font color=\"red\">[1 Mark]</font>"
      ]
    },
    {
      "cell_type": "code",
      "execution_count": null,
      "metadata": {
        "id": "V1uKag9gbzFI"
      },
      "outputs": [],
      "source": [
        "# Import 'LogisticRegression' and create a LogisticRegression object\n"
      ]
    },
    {
      "cell_type": "markdown",
      "metadata": {
        "id": "M_flTl2qVS1t"
      },
      "source": [
        "7.1.2 Import RFE  and select 15 variables <font color=\"red\">[3 Mark]</font>"
      ]
    },
    {
      "cell_type": "code",
      "execution_count": null,
      "metadata": {
        "id": "JMAKjGQAbzFI"
      },
      "outputs": [],
      "source": [
        "# Import RFE and select 15 variables\n"
      ]
    },
    {
      "cell_type": "code",
      "execution_count": null,
      "metadata": {
        "id": "znuj-wmubzFJ"
      },
      "outputs": [],
      "source": [
        "# Display the features selected by RFE\n"
      ]
    },
    {
      "cell_type": "markdown",
      "metadata": {
        "id": "AfSLJwIFbzFJ"
      },
      "source": [
        "7.1.3 Store the selected features <font color=\"red\">[1 Mark]</font>\n",
        "\n",
        "\n"
      ]
    },
    {
      "cell_type": "code",
      "execution_count": null,
      "metadata": {
        "id": "CblOqMSzbzFJ"
      },
      "outputs": [],
      "source": [
        "# Put columns selected by RFE into variable 'col'\n"
      ]
    },
    {
      "cell_type": "markdown",
      "metadata": {
        "id": "wMGvl2H1bzFJ"
      },
      "source": [
        "### **7.2 Building Logistic Regression Model** <font color = red>[20 marks]</font>\n",
        "\n",
        "Now that you have selected the variables through RFE, use these features to build a logistic regression model with statsmodels. This will allow you to assess the statistical aspects, such as p-values and VIFs, which are important for checking multicollinearity and ensuring that the predictors are not highly correlated with each other, as this could distort the model's coefficients."
      ]
    },
    {
      "cell_type": "markdown",
      "metadata": {
        "id": "X9t-NQ2KjHv6"
      },
      "source": [
        "7.2.1 Select relevant columns on training set <font color=\"red\">[1 Mark]</font>"
      ]
    },
    {
      "cell_type": "code",
      "execution_count": null,
      "metadata": {
        "id": "HLHDHKfSbzFJ"
      },
      "outputs": [],
      "source": [
        "# Select only the columns selected by RFE\n"
      ]
    },
    {
      "cell_type": "code",
      "execution_count": null,
      "metadata": {
        "id": "DLukEfebbzFJ"
      },
      "outputs": [],
      "source": [
        "# View the training data\n"
      ]
    },
    {
      "cell_type": "markdown",
      "metadata": {
        "id": "Ikq-mNcWjZ7u"
      },
      "source": [
        "7.2.2 Add constant to training set <font color = \"red\">[1 Mark]</font>"
      ]
    },
    {
      "cell_type": "code",
      "execution_count": null,
      "metadata": {
        "id": "QNcomiZdbzFK"
      },
      "outputs": [],
      "source": [
        "# Import statsmodels and add constant to training set\n"
      ]
    },
    {
      "cell_type": "markdown",
      "metadata": {
        "id": "XbOjP0UJjmJr"
      },
      "source": [
        "7.2.3 Fit logistic regression model <font color=\"red\">[3 Marks]</font>"
      ]
    },
    {
      "cell_type": "code",
      "execution_count": null,
      "metadata": {
        "id": "ZTQHS0e7bzFK"
      },
      "outputs": [],
      "source": [
        "# Fit a logistic regression model on X_train after adding a constant and output the summary\n"
      ]
    },
    {
      "cell_type": "markdown",
      "metadata": {
        "id": "xyLcup7xbzFK"
      },
      "source": [
        "**Model Interpretation**\n",
        "\n",
        "The output summary table  will provide the features used for building model along with coefficient of each of the feature and their p-value. The p-value in a logistic regression model is used to assess the statistical significance of each coefficient. Lesser the p-value, more significant the feature is in the model.\n",
        "\n",
        "A positive coefficient will indicate that an increase in the value of feature would increase the odds of the event occurring. On the other hand, a negative coefficient means the opposite, i.e,  an increase in the value of feature would decrease the odds of the event occurring.\n",
        "\n"
      ]
    },
    {
      "cell_type": "markdown",
      "metadata": {
        "id": "LICa4vdcj0nP"
      },
      "source": [
        "7.2.4 Evaluate VIF of features <font color=\"red\">[3 Marks]</font>"
      ]
    },
    {
      "cell_type": "code",
      "execution_count": null,
      "metadata": {
        "id": "HCHI-Z-UbzFK"
      },
      "outputs": [],
      "source": [
        "# Import 'variance_inflation_factor'\n",
        "from statsmodels.stats.outliers_influence import variance_inflation_factor"
      ]
    },
    {
      "cell_type": "code",
      "execution_count": null,
      "metadata": {
        "id": "ute-cXihbzFL"
      },
      "outputs": [],
      "source": [
        "# Make a VIF DataFrame for all the variables present\n"
      ]
    },
    {
      "cell_type": "markdown",
      "metadata": {
        "id": "1iDznUNbbzFL"
      },
      "source": [
        "Proceed to the next step if p-values and VIFs are within acceptable ranges.  If you observe high p-values or VIFs, create new cells to drop the features and retrain the model."
      ]
    },
    {
      "cell_type": "markdown",
      "metadata": {
        "id": "uVrg9XDGkC1p"
      },
      "source": [
        "7.2.5 Make predictions on training set <font color = \"red\">[2 Marks]</font>"
      ]
    },
    {
      "cell_type": "code",
      "execution_count": null,
      "metadata": {
        "id": "bq545BKdbzFL"
      },
      "outputs": [],
      "source": [
        "# Predict the probabilities on the training set\n"
      ]
    },
    {
      "cell_type": "markdown",
      "metadata": {
        "id": "M7M8kndokRo3"
      },
      "source": [
        "7.2.6 Format the prediction output <font color=\"red\">[1 Mark]</font>"
      ]
    },
    {
      "cell_type": "code",
      "execution_count": null,
      "metadata": {
        "id": "tqSLANvybzFL"
      },
      "outputs": [],
      "source": [
        "# Reshape it into an array\n"
      ]
    },
    {
      "cell_type": "markdown",
      "metadata": {
        "id": "B__pQ9mBbzFM"
      },
      "source": [
        "7.2.7 Create a DataFrame with the actual stayed flag and the predicted probabilities <font color=\"red\">[1 Mark]</font>"
      ]
    },
    {
      "cell_type": "code",
      "execution_count": null,
      "metadata": {
        "id": "-YcNu7FEbzFM"
      },
      "outputs": [],
      "source": [
        "# Create a new DataFrame containing the actual stayed flag and the probabilities predicted by the model\n"
      ]
    },
    {
      "cell_type": "markdown",
      "metadata": {
        "id": "ShtZ7a30bzFM"
      },
      "source": [
        "7.2.8 Create a new column 'Predicted' with 1 if predicted probabilities are greater than 0.5 else 0 <font color = \"red\">[1 Mark]</font>"
      ]
    },
    {
      "cell_type": "code",
      "execution_count": null,
      "metadata": {
        "id": "_V3Pq0k4bzFM"
      },
      "outputs": [],
      "source": [
        "# Create a new column 'Predicted' with 1 if predicted probabilities are greater than 0.5 else 0\n"
      ]
    },
    {
      "cell_type": "markdown",
      "metadata": {
        "id": "e6mNG69ybzFL"
      },
      "source": [
        "**Evaluation of performance of Model**\n",
        "\n",
        "Evaluate the performance of the model based on the predictions made on the training set.\n"
      ]
    },
    {
      "cell_type": "markdown",
      "metadata": {
        "id": "Kl_XslnfbzFM"
      },
      "source": [
        "7.2.9 Check the accuracy of the model based on the predictions made on the training set <font color = \"red\">[1 Mark]</font>"
      ]
    },
    {
      "cell_type": "code",
      "execution_count": null,
      "metadata": {
        "id": "jhA1kq_dbzFM"
      },
      "outputs": [],
      "source": [
        "# Import metrics from sklearn for evaluation\n",
        "from sklearn import metrics\n",
        "\n",
        "# Check the overall accuracy\n"
      ]
    },
    {
      "cell_type": "markdown",
      "metadata": {
        "id": "JIo_9vjSbzFM"
      },
      "source": [
        "7.2.10 Create a confusion matrix based on the predictions made on the training set <font color=\"red\">[1 mark]</font>"
      ]
    },
    {
      "cell_type": "code",
      "execution_count": null,
      "metadata": {
        "id": "L_1DsDkjbzFN"
      },
      "outputs": [],
      "source": [
        "# Create confusion matrix\n"
      ]
    },
    {
      "cell_type": "markdown",
      "metadata": {
        "id": "LhUC-9xrpv1L"
      },
      "source": [
        "7.2.11 Create variables for true positive, true negative, false positive and false negative <font color=\"red\">[1 Mark]</font>"
      ]
    },
    {
      "cell_type": "code",
      "execution_count": null,
      "metadata": {
        "id": "lK9ZbfjIbzFN"
      },
      "outputs": [],
      "source": [
        "# Create variables for true positive, true negative, false positive and false negative\n"
      ]
    },
    {
      "cell_type": "markdown",
      "metadata": {
        "id": "teRSbuOSbzFN"
      },
      "source": [
        "7.2.12 Calculate sensitivity and specificity of model  <font color=\"red\">[2 Marks]</font>"
      ]
    },
    {
      "cell_type": "code",
      "execution_count": null,
      "metadata": {
        "id": "-G-5XVNJbzFN"
      },
      "outputs": [],
      "source": [
        "# Calculate sensitivity\n"
      ]
    },
    {
      "cell_type": "code",
      "execution_count": null,
      "metadata": {
        "id": "A24XTKXnEFYH"
      },
      "outputs": [],
      "source": [
        "# Calculate specificity"
      ]
    },
    {
      "cell_type": "markdown",
      "metadata": {
        "id": "lDuRAKYgbzFO"
      },
      "source": [
        "7.2.13 Calculate precision and recall of model <font color=\"red\">[2 Marks]</font>"
      ]
    },
    {
      "cell_type": "code",
      "execution_count": null,
      "metadata": {
        "id": "SwzXNQqYbzFO"
      },
      "outputs": [],
      "source": [
        "# Calculate precision\n"
      ]
    },
    {
      "cell_type": "code",
      "execution_count": null,
      "metadata": {
        "id": "kCNnfrQIbzFO"
      },
      "outputs": [],
      "source": [
        "# Calculate recall\n"
      ]
    },
    {
      "cell_type": "markdown",
      "metadata": {
        "id": "IThpUyeKbzFO"
      },
      "source": [
        "### **7.3 Find the optimal cutoff** <font color = red>[15 marks]</font>\n",
        "\n",
        "Find the optimal cutoff to improve model performance. While a default threshold of 0.5 was used for initial evaluation, optimising this threshold can enhance the model's performance.\n",
        "\n",
        "First, plot the ROC curve and check AUC.\n",
        "\n"
      ]
    },
    {
      "cell_type": "markdown",
      "metadata": {
        "id": "K6P4KhA_pH-P"
      },
      "source": [
        "7.3.1 Plot ROC curve <font color=\"red\">[3 Marks]</font>"
      ]
    },
    {
      "cell_type": "code",
      "execution_count": null,
      "metadata": {
        "id": "-QAnutZNbzFO"
      },
      "outputs": [],
      "source": [
        "# Define ROC function\n"
      ]
    },
    {
      "cell_type": "code",
      "execution_count": null,
      "metadata": {
        "id": "-hkCvgfEbzFO"
      },
      "outputs": [],
      "source": [
        "# Call the ROC function\n"
      ]
    },
    {
      "cell_type": "markdown",
      "metadata": {
        "id": "TIbs06KDbzFO"
      },
      "source": [
        "**Sensitivity and Specificity tradeoff**\n",
        "\n",
        "Check sensitivity and specificity tradeoff to find the optimal cutoff point."
      ]
    },
    {
      "cell_type": "markdown",
      "metadata": {
        "id": "1II4CXInpfuZ"
      },
      "source": [
        "7.3.2 Predict on training set at various probability cutoffs <font color=\"red\">[1 Mark]</font>"
      ]
    },
    {
      "cell_type": "code",
      "execution_count": null,
      "metadata": {
        "id": "-74M5fbIbzFO"
      },
      "outputs": [],
      "source": [
        "# Predict on training data by creating columns with different probability cutoffs to explore the impact of cutoff on model performance\n"
      ]
    },
    {
      "cell_type": "markdown",
      "metadata": {
        "id": "DA0BEORfp_nW"
      },
      "source": [
        "7.3.3 Plot for accuracy, sensitivity, specificity at different probability cutoffs <font color=\"red\">[2 Marks]</font>"
      ]
    },
    {
      "cell_type": "code",
      "execution_count": null,
      "metadata": {
        "id": "An1cy6CJbzFP"
      },
      "outputs": [],
      "source": [
        "# Create a DataFrame to see the values of accuracy, sensitivity, and specificity at different values of probability cutoffs\n"
      ]
    },
    {
      "cell_type": "code",
      "execution_count": null,
      "metadata": {
        "id": "P725dvI6bzFP"
      },
      "outputs": [],
      "source": [
        "# Plot accuracy, sensitivity, and specificity at different values of probability cutoffs\n"
      ]
    },
    {
      "cell_type": "markdown",
      "metadata": {
        "id": "xnCc19DyqUSt"
      },
      "source": [
        "7.3.4 Create a column for final prediction based on the optimal cutoff <font color=\"red\">[2 Marks]</font>"
      ]
    },
    {
      "cell_type": "code",
      "execution_count": null,
      "metadata": {
        "id": "yLyy-eawbzFP"
      },
      "outputs": [],
      "source": [
        "# Create a column for final prediction based on the optimal cutoff\n"
      ]
    },
    {
      "cell_type": "markdown",
      "metadata": {
        "id": "rRyaBXdEqryR"
      },
      "source": [
        "7.3.5 Calculate model's accuracy <font color=\"red\">[1Mark]</font>"
      ]
    },
    {
      "cell_type": "code",
      "execution_count": null,
      "metadata": {
        "id": "dr5PFXZMbzFP"
      },
      "outputs": [],
      "source": [
        "# Calculate the accuracy\n"
      ]
    },
    {
      "cell_type": "markdown",
      "metadata": {
        "id": "DfgLjKNYrDr8"
      },
      "source": [
        "7.3.6 Create confusion matrix <font color=\"red\">[1Mark]</font>"
      ]
    },
    {
      "cell_type": "code",
      "execution_count": null,
      "metadata": {
        "id": "KNCQmHAgbzFQ"
      },
      "outputs": [],
      "source": [
        "# Create the confusion matrix once again\n"
      ]
    },
    {
      "cell_type": "markdown",
      "metadata": {
        "id": "ZE80CYQ4rMCM"
      },
      "source": [
        "7.3.7 Create variables for true positive, true negative, false positive and false negative <font color=\"red\">[1Mark]</font>"
      ]
    },
    {
      "cell_type": "code",
      "execution_count": null,
      "metadata": {
        "id": "l53itzjzbzFQ"
      },
      "outputs": [],
      "source": [
        "# Create variables for true positive, true negative, false positive and false negative\n"
      ]
    },
    {
      "cell_type": "markdown",
      "metadata": {
        "id": "0drkvl0drY2t"
      },
      "source": [
        "7.3.8 Calculate sensitivity and specificity of the model <font color=\"red\">[1Mark]</font>"
      ]
    },
    {
      "cell_type": "code",
      "execution_count": null,
      "metadata": {
        "id": "GtXYfD1mbzFQ"
      },
      "outputs": [],
      "source": [
        "# Calculate Sensitivity\n"
      ]
    },
    {
      "cell_type": "code",
      "execution_count": null,
      "metadata": {
        "id": "I4Meaz7RbzFR"
      },
      "outputs": [],
      "source": [
        "# Calculate Specificity\n"
      ]
    },
    {
      "cell_type": "markdown",
      "metadata": {
        "id": "ZBm4vL_2rhgF"
      },
      "source": [
        "7.3.9 Calculate precision and recall of the model <font color=\"red\">[1Mark]</font>"
      ]
    },
    {
      "cell_type": "code",
      "execution_count": null,
      "metadata": {
        "id": "lnQgXuQCbzFR"
      },
      "outputs": [],
      "source": [
        "# Calculate Precision\n"
      ]
    },
    {
      "cell_type": "code",
      "execution_count": null,
      "metadata": {
        "id": "Z4HQbkZhbzFS"
      },
      "outputs": [],
      "source": [
        "# Calculate Recall\n"
      ]
    },
    {
      "cell_type": "markdown",
      "metadata": {
        "id": "rxmGPpwpbzFS"
      },
      "source": [
        "**Precision and Recall tradeoff**\n",
        "\n",
        "Check optimal cutoff value by plotting precision-recall curve, and adjust the cutoff based on the precision and recall tradeoff if required."
      ]
    },
    {
      "cell_type": "code",
      "execution_count": null,
      "metadata": {
        "id": "L1gibcCMbzFS"
      },
      "outputs": [],
      "source": [
        "# Import precision-recall curve function\n",
        "from sklearn.metrics import precision_recall_curve"
      ]
    },
    {
      "cell_type": "code",
      "execution_count": null,
      "metadata": {
        "id": "MV-oGIWHbzFT"
      },
      "outputs": [],
      "source": [
        "# Check actual and predicted values from initial model\n"
      ]
    },
    {
      "cell_type": "markdown",
      "metadata": {
        "id": "9dV_jCG6rykd"
      },
      "source": [
        "7.3.10 Plot precision-recall curve <font color=\"red\">[2 Marks]</font>"
      ]
    },
    {
      "cell_type": "code",
      "execution_count": null,
      "metadata": {
        "id": "da902sgzbzFT"
      },
      "outputs": [],
      "source": [
        "# Plot precision-recall curve\n"
      ]
    },
    {
      "cell_type": "markdown",
      "metadata": {
        "id": "c6fCFjfubzFT"
      },
      "source": [
        "## **8. Prediction and Model Evaluation** <font color = red>[30 marks]</font>\n",
        "\n",
        "Use the model from the previous step to make predictions on the validation set with the optimal cutoff. Then evaluate the model's performance using metrics such as accuracy, sensitivity, specificity, precision, and recall."
      ]
    },
    {
      "cell_type": "markdown",
      "metadata": {
        "id": "GEY3dsXNbzFU"
      },
      "source": [
        "### **8.1 Make predictions over validation set** <font color = red>[15 marks]</font>"
      ]
    },
    {
      "cell_type": "markdown",
      "metadata": {
        "id": "6PSHBQ5qbzFU"
      },
      "source": [
        "8.1.1 Select relevant features for validation set <font color=\"red\">[2 Marks]</font>\n",
        "\n"
      ]
    },
    {
      "cell_type": "code",
      "execution_count": null,
      "metadata": {
        "id": "g9n1aTakbzFU"
      },
      "outputs": [],
      "source": [
        "# Select the relevant features for validation set\n"
      ]
    },
    {
      "cell_type": "markdown",
      "metadata": {
        "id": "pNGNgwNrsXf9"
      },
      "source": [
        "8.1.2 Add constant to X_validation <font color=\"red\">[2 Marks]</font>"
      ]
    },
    {
      "cell_type": "code",
      "execution_count": null,
      "metadata": {
        "id": "3Y_CGwNWbzFU"
      },
      "outputs": [],
      "source": [
        "# Add constant to X_validation\n"
      ]
    },
    {
      "cell_type": "markdown",
      "metadata": {
        "id": "tSl-wRsRshW_"
      },
      "source": [
        "8.1.3 Make predictions over validation set <font color=\"red\">[3 Marks]</font>"
      ]
    },
    {
      "cell_type": "code",
      "execution_count": null,
      "metadata": {
        "id": "N7tRbWcQbzFU"
      },
      "outputs": [],
      "source": [
        "# Make predictions on the validation set and store it in the variable 'y_validation_pred'\n",
        "\n",
        "# View predictions\n"
      ]
    },
    {
      "cell_type": "markdown",
      "metadata": {
        "id": "ONdgg12qtJSs"
      },
      "source": [
        "8.1.4 Create DataFrame with actual values and predicted values for validation set <font color=\"red\">[5 Marks]</font>"
      ]
    },
    {
      "cell_type": "code",
      "execution_count": null,
      "metadata": {
        "id": "cxhXWRVMbzFV"
      },
      "outputs": [],
      "source": [
        "# Convert 'y_validation_pred' to a DataFrame 'predicted_probability'\n",
        "\n",
        "# Convert 'y_validation' to DataFrame 'actual'\n",
        "\n",
        "# Remove index from both DataFrames 'actual' and 'predicted_probability' to append them side by side\n"
      ]
    },
    {
      "cell_type": "markdown",
      "metadata": {
        "id": "3HrzB4MRtlGB"
      },
      "source": [
        "8.1.5 Predict final prediction based on the cutoff value <font color=\"red\">[3 Marks]</font>"
      ]
    },
    {
      "cell_type": "code",
      "execution_count": null,
      "metadata": {
        "id": "SCshcMgnbzFW"
      },
      "outputs": [],
      "source": [
        "# Make predictions on the validation set using the optimal cutoff and store it in a column 'final_prediction'\n",
        "\n",
        "# Check the DataFrame\n"
      ]
    },
    {
      "cell_type": "markdown",
      "metadata": {
        "id": "gMSL-5-pbzFW"
      },
      "source": [
        "### **8.2 Calculate accuracy of the model** <font color = red>[2 marks]</font>"
      ]
    },
    {
      "cell_type": "code",
      "execution_count": null,
      "metadata": {
        "id": "bwRF3dn6bzFW"
      },
      "outputs": [],
      "source": [
        "# Calculate the overall accuracy\n"
      ]
    },
    {
      "cell_type": "markdown",
      "metadata": {
        "id": "8tNEp8_bbzFW"
      },
      "source": [
        "### **8.3 Create confusion matrix and create variables for true positive, true negative, false positive and false negative** <font color = red>[5 marks]</font>"
      ]
    },
    {
      "cell_type": "code",
      "execution_count": null,
      "metadata": {
        "id": "RnaOhweTbzFW"
      },
      "outputs": [],
      "source": [
        "# Create confusion matrix\n"
      ]
    },
    {
      "cell_type": "code",
      "execution_count": null,
      "metadata": {
        "id": "AbnOzs9VbzFW"
      },
      "outputs": [],
      "source": [
        "# Create variables for true positive, true negative, false positive and false negative\n"
      ]
    },
    {
      "cell_type": "markdown",
      "metadata": {
        "id": "rfnlV8xobzFW"
      },
      "source": [
        "### **8.4 Calculate sensitivity and specificity** <font color = red>[4 marks]</font>"
      ]
    },
    {
      "cell_type": "code",
      "execution_count": null,
      "metadata": {
        "id": "-M3WRwH9bzFW"
      },
      "outputs": [],
      "source": [
        "# Calculate sensitivity\n"
      ]
    },
    {
      "cell_type": "code",
      "execution_count": null,
      "metadata": {
        "id": "mAf35xDnbzFX"
      },
      "outputs": [],
      "source": [
        "# Calculate specificity\n"
      ]
    },
    {
      "cell_type": "markdown",
      "metadata": {
        "id": "nsUKjAT0bzFX"
      },
      "source": [
        "### **8.5 Calculate precision and recall** <font color = red>[4 marks]</font>"
      ]
    },
    {
      "cell_type": "code",
      "execution_count": null,
      "metadata": {
        "id": "19C3vTO3bzFX"
      },
      "outputs": [],
      "source": [
        "# Calculate precision\n"
      ]
    },
    {
      "cell_type": "code",
      "execution_count": null,
      "metadata": {
        "id": "vvyUapBfbzFX"
      },
      "outputs": [],
      "source": [
        "# Calculate recall\n"
      ]
    },
    {
      "cell_type": "markdown",
      "metadata": {
        "id": "Hmyrh46kbzFY"
      },
      "source": [
        "## Conclusion\n",
        "\n"
      ]
    }
  ],
  "metadata": {
    "colab": {
      "provenance": []
    },
    "kernelspec": {
      "display_name": "Python 3 (ipykernel)",
      "language": "python",
      "name": "python3"
    },
    "language_info": {
      "codemirror_mode": {
        "name": "ipython",
        "version": 3
      },
      "file_extension": ".py",
      "mimetype": "text/x-python",
      "name": "python",
      "nbconvert_exporter": "python",
      "pygments_lexer": "ipython3",
      "version": "3.13.3"
    }
  },
  "nbformat": 4,
  "nbformat_minor": 0
}